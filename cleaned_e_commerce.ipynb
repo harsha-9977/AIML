{
 "cells": [
  {
   "cell_type": "code",
   "execution_count": null,
   "metadata": {
    "id": "mxPHNX_DY4G4"
   },
   "outputs": [],
   "source": [
    "import pandas as pd\n",
    "import matplotlib.pyplot as plt\n",
    "import seaborn as sns\n",
    "import plotly.express as px\n",
    "\n",
    "# Load the data\n",
    "df = pd.read_csv(\"data.csv\", encoding='ISO-8859-1', parse_dates=[\"InvoiceDate\"])\n"
   ]
  },
  {
   "cell_type": "code",
   "execution_count": null,
   "metadata": {
    "colab": {
     "base_uri": "https://localhost:8080/",
     "height": 206
    },
    "id": "xP0BIHJGZEyn",
    "outputId": "2cd9f8e8-c485-4841-fe03-5558d3f928b7"
   },
   "outputs": [],
   "source": [
    "df.head()\n",
    "\n"
   ]
  },
  {
   "cell_type": "code",
   "execution_count": null,
   "metadata": {
    "colab": {
     "base_uri": "https://localhost:8080/"
    },
    "id": "YuZ9dG0FZHrR",
    "outputId": "754c9172-7242-4bc3-8da6-6d6c38902495"
   },
   "outputs": [],
   "source": [
    "df.info()\n"
   ]
  },
  {
   "cell_type": "code",
   "execution_count": null,
   "metadata": {
    "colab": {
     "base_uri": "https://localhost:8080/",
     "height": 429
    },
    "id": "C1nEZmsVZJU5",
    "outputId": "17a3abe5-8a52-48ed-d2f2-f03d92cedceb"
   },
   "outputs": [],
   "source": [
    "df.describe(include='all')\n"
   ]
  },
  {
   "cell_type": "code",
   "execution_count": null,
   "metadata": {
    "colab": {
     "base_uri": "https://localhost:8080/",
     "height": 335
    },
    "id": "I-UGovDeZLei",
    "outputId": "e1a366c6-3e1e-47ef-dd01-01755cbc956a"
   },
   "outputs": [],
   "source": [
    "df.isnull().sum()\n"
   ]
  },
  {
   "cell_type": "code",
   "execution_count": null,
   "metadata": {
    "id": "l8YbgWG_Zjic"
   },
   "outputs": [],
   "source": [
    "df['CustomerID'] = df['CustomerID'].astype(str)\n"
   ]
  },
  {
   "cell_type": "code",
   "execution_count": null,
   "metadata": {
    "colab": {
     "base_uri": "https://localhost:8080/"
    },
    "id": "YVcdGQytZNRR",
    "outputId": "c7238636-b8a8-49de-ac08-ce9a9b7aaca9"
   },
   "outputs": [],
   "source": [
    "df.duplicated().sum()"
   ]
  },
  {
   "cell_type": "code",
   "execution_count": null,
   "metadata": {
    "colab": {
     "base_uri": "https://localhost:8080/",
     "height": 597
    },
    "id": "PnR5Q8H_ZQDj",
    "outputId": "f3d063ff-fa28-4aea-c166-da1859f7af35"
   },
   "outputs": [],
   "source": [
    "# Drop rows with missing CustomerID\n",
    "df = df.dropna(subset=['CustomerID'])\n",
    "\n",
    "# Remove cancelled orders (InvoiceNo starting with 'C')\n",
    "df = df[~df['InvoiceNo'].astype(str).str.startswith('C')]\n",
    "\n",
    "# Convert InvoiceNo and CustomerID to string\n",
    "df['InvoiceNo'] = df['InvoiceNo'].astype(str)\n",
    "df['CustomerID'] = df['CustomerID'].astype(str)\n",
    "\n",
    "# Add TotalPrice column\n",
    "df['TotalPrice'] = df['Quantity'] * df['UnitPrice']\n",
    "df"
   ]
  },
  {
   "cell_type": "code",
   "execution_count": null,
   "metadata": {
    "colab": {
     "base_uri": "https://localhost:8080/",
     "height": 1000
    },
    "id": "yfO623sVd-PP",
    "outputId": "e3df2be5-a288-4269-85e2-6d041b320b69"
   },
   "outputs": [],
   "source": [
    "pip install pandas numpy sentence-transformers pinecone-client scikit-learn tqdm"
   ]
  },
  {
   "cell_type": "code",
   "execution_count": null,
   "metadata": {
    "colab": {
     "base_uri": "https://localhost:8080/",
     "height": 359,
     "referenced_widgets": [
      "441e4394ed9842fb9c8e989195447b5c",
      "d9c27bc32a2f4653b78af5880437e208",
      "ee87e5800df74f76a22db1996f02d7c2",
      "02aab36c184345f49dcaf76f5510e1eb",
      "1ca9f3d066444d98b35635db3d0b762e",
      "e9ba5d09c8ef48a8a1267c96bc5d4aca",
      "130ddd67617f44e8859b3aa4b4ff9ac0",
      "79b189b8f19548edb24bca1e8c52134e",
      "46dd402171a64de896e1ef42fb526e7d",
      "bfa42460b0864aefbe9f0c6d4c77bdc3",
      "ac555c1fa99d4c929da57bce946f1423"
     ]
    },
    "id": "uJeZqqLlgVRp",
    "outputId": "6c6fdda4-9d8b-47b8-8049-363afa55cc42"
   },
   "outputs": [],
   "source": [
    "# ===== STEP 1: Load Data =====\n",
    "import pandas as pd\n",
    "df = pd.read_csv(\"data.csv\", encoding='ISO-8859-1', parse_dates=[\"InvoiceDate\"])\n",
    "df['Description'] = df['Description'].str.lower().str.strip()\n",
    "df = df.dropna(subset=['Description', 'CustomerID'])\n",
    "\n",
    "# ===== STEP 2: Create Product Metadata =====\n",
    "product_metadata = df.groupby('StockCode').agg({\n",
    "    'Description': 'first',\n",
    "    'UnitPrice': 'mean',\n",
    "    'Quantity': 'sum'\n",
    "}).reset_index()\n",
    "product_metadata['product_id'] = product_metadata['StockCode'].astype(str)\n",
    "\n",
    "# ===== STEP 3: Generate Embeddings =====\n",
    "from sentence_transformers import SentenceTransformer\n",
    "model = SentenceTransformer('all-MiniLM-L6-v2')\n",
    "product_metadata['embedding'] = model.encode(\n",
    "    product_metadata['Description'].tolist(),\n",
    "    show_progress_bar=True\n",
    ").tolist()\n",
    "\n",
    "# ===== STEP 4: Pinecone Setup =====\n",
    "from pinecone import Pinecone, ServerlessSpec\n",
    "import os\n",
    "pc = Pinecone(api_key=\"pcsk_5qM3R_RTNpiTNe6KMSLvYicdZvzc48WR8zXAGYjVH6iozaCeUYkydMhmw42toBHwVhQCJ\")\n",
    "index_name = \"product-recs\"\n",
    "\n",
    "if index_name in pc.list_indexes().names():\n",
    "    pc.delete_index(index_name)\n",
    "\n",
    "pc.create_index(\n",
    "    name=index_name,\n",
    "    dimension=384,\n",
    "    metric=\"cosine\",\n",
    "    spec=ServerlessSpec(cloud=\"aws\", region=\"us-east-1\")\n",
    ")\n",
    "index = pc.Index(index_name)\n",
    "\n",
    "# ===== STEP 5: Upload Embeddings =====\n",
    "from tqdm import tqdm\n",
    "vectors = [{\n",
    "    \"id\": row[\"product_id\"],\n",
    "    \"values\": row[\"embedding\"],\n",
    "    \"metadata\": {\n",
    "        \"description\": row[\"Description\"],\n",
    "        \"price\": float(row[\"UnitPrice\"]),\n",
    "        \"sales\": int(row[\"Quantity\"])\n",
    "    }\n",
    "} for _, row in product_metadata.iterrows()]\n",
    "\n",
    "print(f\"Uploading {len(vectors)} products...\")\n",
    "for i in tqdm(range(0, len(vectors), 100)):\n",
    "    index.upsert(vectors=vectors[i:i+100])\n",
    "\n",
    "print(\"\\nUpload complete! Index stats:\")\n",
    "print(index.describe_index_stats())"
   ]
  },
  {
   "cell_type": "code",
   "execution_count": null,
   "metadata": {
    "colab": {
     "base_uri": "https://localhost:8080/"
    },
    "id": "lhPBor3Rg08q",
    "outputId": "099f362e-9cc7-40e8-f570-76ec539718cc"
   },
   "outputs": [],
   "source": [
    "# 1. Verify vectors are properly formatted\n",
    "print(\"First vector sample:\", vectors[0][\"id\"], \"...\", vectors[0][\"values\"][:3])\n",
    "\n",
    "# 2. Alternative upload method (more reliable)\n",
    "from itertools import islice\n",
    "def batch_upsert(all_vectors, batch_size=100):\n",
    "    for i in range(0, len(all_vectors), batch_size):\n",
    "        yield list(islice(all_vectors, i, i + batch_size))\n",
    "\n",
    "print(f\"\\nRe-attempting upload for {len(vectors)} vectors...\")\n",
    "for batch in tqdm(batch_upsert(vectors), total=len(vectors)//100 + 1):\n",
    "    index.upsert(vectors=batch)\n",
    "\n",
    "# 3. Force index refresh\n",
    "import time\n",
    "time.sleep(10)  # Allow index to update\n",
    "\n",
    "# 4. Verify with deeper check\n",
    "stats = index.describe_index_stats()\n",
    "if stats['total_vector_count'] == len(vectors):\n",
    "    print(\"✓ Upload verified!\")\n",
    "    print(f\"Vectors in index: {stats['total_vector_count']}\")\n",
    "else:\n",
    "    print(\"⚠️ Upload problem detected! Trying diagnostic:\")\n",
    "    print(f\"Expected: {len(vectors)} | Actual: {stats['total_vector_count']}\")\n",
    "    print(\"Checking first 3 vectors in index...\")\n",
    "    sample_ids = [v[\"id\"] for v in vectors[:3]]\n",
    "    print(\"Fetch result:\", index.fetch(ids=sample_ids))"
   ]
  },
  {
   "cell_type": "code",
   "execution_count": null,
   "metadata": {
    "id": "kK5wh5JOhHkP"
   },
   "outputs": [],
   "source": [
    "import numpy as np"
   ]
  },
  {
   "cell_type": "code",
   "execution_count": null,
   "metadata": {
    "colab": {
     "base_uri": "https://localhost:8080/"
    },
    "id": "5bo8Y8nohFlv",
    "outputId": "b2945155-239a-4600-a14f-af4e5731d2d1"
   },
   "outputs": [],
   "source": [
    "# 1. Create user purchase history\n",
    "user_history = df.groupby('CustomerID').agg({\n",
    "    'StockCode': list,\n",
    "    'Description': list,\n",
    "    'Quantity': list\n",
    "}).reset_index()\n",
    "\n",
    "# 2. Generate user embeddings (average of purchased product embeddings)\n",
    "user_embeddings = []\n",
    "for _, user in user_history.iterrows():\n",
    "    purchased_products = user['StockCode']\n",
    "    embeddings = []\n",
    "\n",
    "    for product_id in purchased_products:\n",
    "        product_mask = product_metadata['StockCode'] == product_id\n",
    "        if product_mask.any():\n",
    "            embeddings.append(product_metadata.loc[product_mask, 'embedding'].iloc[0])\n",
    "\n",
    "    if embeddings:\n",
    "        user_embedding = np.mean(embeddings, axis=0).tolist()\n",
    "        user_embeddings.append({\n",
    "            \"id\": str(user['CustomerID']),\n",
    "            \"values\": user_embedding,\n",
    "            \"metadata\": {\n",
    "                \"purchase_count\": len(purchased_products),\n",
    "                \"first_purchase\": min(df[df['CustomerID'] == user['CustomerID']]['InvoiceDate'])\n",
    "            }\n",
    "        })\n",
    "\n",
    "# 3. Show sample user embedding\n",
    "print(f\"\\nGenerated {len(user_embeddings)} user embeddings\")\n",
    "print(\"Sample user embedding:\", user_embeddings[0]['values'][:5], \"...\")"
   ]
  },
  {
   "cell_type": "code",
   "execution_count": null,
   "metadata": {
    "colab": {
     "base_uri": "https://localhost:8080/"
    },
    "id": "T5_CxbpphNWT",
    "outputId": "d412443b-e444-4273-b4be-b91b7c8082c6"
   },
   "outputs": [],
   "source": [
    "print(\"Total users:\", len(user_history))\n",
    "print(\"Sample purchase history:\", user_history.iloc[0]['StockCode'][:3])"
   ]
  },
  {
   "cell_type": "code",
   "execution_count": null,
   "metadata": {
    "colab": {
     "base_uri": "https://localhost:8080/"
    },
    "id": "7Nx8mbjrhObb",
    "outputId": "3ad9e77c-118e-4244-9e1e-25ac1becd427"
   },
   "outputs": [],
   "source": [
    "print(\"Embedding shape:\", len(user_embeddings[0]['values']))"
   ]
  },
  {
   "cell_type": "code",
   "execution_count": null,
   "metadata": {
    "colab": {
     "base_uri": "https://localhost:8080/"
    },
    "id": "MXRPpbU5hRaL",
    "outputId": "d8eee5b5-1111-4968-8c53-6f98ef90600b"
   },
   "outputs": [],
   "source": [
    "# 1. Convert timestamps to strings in user embeddings\n",
    "for embedding in user_embeddings:\n",
    "    embedding['metadata']['first_purchase'] = str(embedding['metadata']['first_purchase'])\n",
    "\n",
    "# 2. Create user index\n",
    "user_index_name = \"user-profiles\"\n",
    "if user_index_name in pc.list_indexes().names():\n",
    "    pc.delete_index(user_index_name)\n",
    "\n",
    "pc.create_index(\n",
    "    name=user_index_name,\n",
    "    dimension=384,\n",
    "    metric=\"cosine\",\n",
    "    spec=ServerlessSpec(cloud=\"aws\", region=\"us-east-1\")\n",
    ")\n",
    "user_index = pc.Index(user_index_name)\n",
    "\n",
    "# 3. Upload with error handling\n",
    "print(f\"Uploading {len(user_embeddings)} user profiles...\")\n",
    "success_count = 0\n",
    "for i in tqdm(range(0, len(user_embeddings), 100)):\n",
    "    batch = user_embeddings[i:i+100]\n",
    "    try:\n",
    "        user_index.upsert(vectors=batch)\n",
    "        success_count += len(batch)\n",
    "    except Exception as e:\n",
    "        print(f\"Error in batch {i//100}: {str(e)}\")\n",
    "        # Fallback: Upload vectors individually\n",
    "        for vector in batch:\n",
    "            try:\n",
    "                user_index.upsert(vectors=[vector])\n",
    "                success_count += 1\n",
    "            except:\n",
    "                print(f\"Failed to upload user {vector['id']}\")\n",
    "\n",
    "# 4. Verify\n",
    "stats = user_index.describe_index_stats()\n",
    "print(f\"\\nSuccessfully uploaded {success_count}/{len(user_embeddings)} users\")\n",
    "print(\"User index stats:\", stats)"
   ]
  },
  {
   "cell_type": "code",
   "execution_count": null,
   "metadata": {
    "colab": {
     "base_uri": "https://localhost:8080/"
    },
    "id": "63R7jrXIidx6",
    "outputId": "321c82f1-266a-44b8-8e68-88bd8961aa56"
   },
   "outputs": [],
   "source": [
    "# Check embedding format\n",
    "print(\"Sample user embedding keys:\", user_embeddings[0].keys())\n",
    "print(\"Metadata types:\", {k: type(v) for k, v in user_embeddings[0]['metadata'].items()})\n",
    "\n",
    "# Verify all timestamps are strings\n",
    "print(\"\\nTimestamp samples:\")\n",
    "for emb in user_embeddings[:3]:\n",
    "    print(f\"User {emb['id']}: {emb['metadata']['first_purchase']} ({type(emb['metadata']['first_purchase'])})\")"
   ]
  },
  {
   "cell_type": "code",
   "execution_count": null,
   "metadata": {
    "colab": {
     "base_uri": "https://localhost:8080/"
    },
    "id": "pcbk08sciqD-",
    "outputId": "0bab59cd-4dd2-44d5-f27f-df3c3fb3e4ff"
   },
   "outputs": [],
   "source": [
    "# 1. Clean existing index (if any)\n",
    "user_index_name = \"user-profiles\"\n",
    "if user_index_name in pc.list_indexes().names():\n",
    "    pc.delete_index(user_index_name)\n",
    "\n",
    "# 2. Create fresh index with optimized settings\n",
    "pc.create_index(\n",
    "    name=user_index_name,\n",
    "    dimension=384,\n",
    "    metric=\"cosine\",\n",
    "    spec=ServerlessSpec(\n",
    "        cloud=\"aws\",\n",
    "        region=\"us-east-1\"\n",
    "    )\n",
    ")\n",
    "user_index = pc.Index(user_index_name)\n",
    "\n",
    "# 3. Prepare batches with string conversion\n",
    "batch_size = 50  # Smaller batches for reliability\n",
    "print(f\"Preparing {len(user_embeddings)} users in batches of {batch_size}...\")\n",
    "\n",
    "# 4. Upload with progress tracking\n",
    "success_count = 0\n",
    "for i in tqdm(range(0, len(user_embeddings), batch_size)):\n",
    "    batch = user_embeddings[i:i + batch_size]\n",
    "\n",
    "    # Ensure all metadata values are strings\n",
    "    processed_batch = []\n",
    "    for vec in batch:\n",
    "        processed_batch.append({\n",
    "            \"id\": vec[\"id\"],\n",
    "            \"values\": vec[\"values\"],\n",
    "            \"metadata\": {\n",
    "                \"purchases\": str(vec[\"metadata\"][\"purchase_count\"]),\n",
    "                \"first_purchase\": vec[\"metadata\"][\"first_purchase\"]  # Already string\n",
    "            }\n",
    "        })\n",
    "\n",
    "    # Upsert with timeout handling\n",
    "    try:\n",
    "        user_index.upsert(vectors=processed_batch)\n",
    "        success_count += len(processed_batch)\n",
    "    except Exception as e:\n",
    "        print(f\"Batch {i//batch_size} failed: {str(e)}\")\n",
    "\n",
    "# 5. Final verification\n",
    "time.sleep(15)  # Allow index to stabilize\n",
    "stats = user_index.describe_index_stats()\n",
    "print(\"\\nFinal Results:\")\n",
    "print(f\"• Users uploaded: {success_count}/{len(user_embeddings)}\")\n",
    "print(f\"• Index vector count: {stats['total_vector_count']}\")\n",
    "print(f\"• Dimensions: {stats['dimension']}\")\n",
    "\n",
    "# 6. Sample query verification\n",
    "test_user = user_embeddings[0][\"id\"]\n",
    "print(f\"\\nTest query for user {test_user}:\")\n",
    "print(user_index.fetch(ids=[test_user]))"
   ]
  },
  {
   "cell_type": "code",
   "execution_count": null,
   "metadata": {
    "colab": {
     "base_uri": "https://localhost:8080/"
    },
    "id": "BnKMube-i9Xs",
    "outputId": "8005acd6-d55d-455e-ecbb-47b225476fc3"
   },
   "outputs": [],
   "source": [
    "def get_personalized_recommendations(user_id, top_k=5, filter_owned=True):\n",
    "    \"\"\"\n",
    "    Get top product recommendations for a specific user\n",
    "    Args:\n",
    "        user_id: Customer ID (string or numeric)\n",
    "        top_k: Number of recommendations to return\n",
    "        filter_owned: Exclude products the user already purchased\n",
    "    \"\"\"\n",
    "    try:\n",
    "        # Get user's embedding\n",
    "        user_vector = user_index.fetch(ids=[str(user_id)]).vectors[str(user_id)].values\n",
    "\n",
    "        # Get user's purchase history\n",
    "        purchased = set(user_history[user_history['CustomerID'] == float(user_id)]['StockCode'].iloc[0])\n",
    "\n",
    "        # Query similar products\n",
    "        results = index.query(\n",
    "            vector=user_vector,\n",
    "            top_k=top_k + len(purchased) if filter_owned else top_k,\n",
    "            filter={\"product_id\": {\"$nin\": list(purchased)}} if filter_owned else None,\n",
    "            include_metadata=True\n",
    "        )\n",
    "\n",
    "        return [{\n",
    "            'product_id': match.id,\n",
    "            'description': match.metadata['description'],\n",
    "            'price': match.metadata['price'],\n",
    "            'relevance_score': match.score\n",
    "        } for match in results.matches][:top_k]\n",
    "\n",
    "    except Exception as e:\n",
    "        print(f\"Recommendation error: {e}\")\n",
    "        return []\n",
    "\n",
    "# Test with a sample user\n",
    "sample_user = user_history.iloc[10]['CustomerID']\n",
    "print(f\"\\nRecommendations for user {sample_user}:\")\n",
    "for rec in get_personalized_recommendations(sample_user):\n",
    "    print(f\"- {rec['description']} (${rec['price']:.2f}, score: {rec['relevance_score']:.3f})\")"
   ]
  },
  {
   "cell_type": "code",
   "execution_count": null,
   "metadata": {
    "colab": {
     "base_uri": "https://localhost:8080/"
    },
    "id": "Q1SZ-dPSi_-s",
    "outputId": "b06da3af-f949-4316-d647-c6f5ff0ba75a"
   },
   "outputs": [],
   "source": [
    "def get_similar_products(product_id, top_k=5):\n",
    "    \"\"\"Get visually/thematically similar products\"\"\"\n",
    "    try:\n",
    "        results = index.query(\n",
    "            id=str(product_id),\n",
    "            top_k=top_k + 1,  # +1 to exclude self\n",
    "            include_metadata=True\n",
    "        )\n",
    "\n",
    "        return [{\n",
    "            'product_id': match.id,\n",
    "            'description': match.metadata['description'],\n",
    "            'price': match.metadata['price'],\n",
    "            'similarity_score': match.score\n",
    "        } for match in results.matches if match.id != str(product_id)][:top_k]\n",
    "\n",
    "    except Exception as e:\n",
    "        print(f\"Similar products error: {e}\")\n",
    "        return []\n",
    "\n",
    "# Test with a sample product\n",
    "sample_product = product_metadata.iloc[20]['StockCode']\n",
    "print(f\"\\nProducts similar to {sample_product}:\")\n",
    "for sim in get_similar_products(sample_product):\n",
    "    print(f\"- {sim['description']} (${sim['price']:.2f}, similarity: {sim['similarity_score']:.3f})\")"
   ]
  },
  {
   "cell_type": "code",
   "execution_count": null,
   "metadata": {
    "colab": {
     "base_uri": "https://localhost:8080/"
    },
    "id": "I0VR8DJJjB32",
    "outputId": "4c009de7-3c08-4b84-9308-e05b628d1714"
   },
   "outputs": [],
   "source": [
    "def get_hybrid_recommendations(user_id, viewed_product=None, top_k=5):\n",
    "    \"\"\"\n",
    "    Combine:\n",
    "    - User's general preferences\n",
    "    - Similarity to currently viewed product\n",
    "    \"\"\"\n",
    "    try:\n",
    "        # Get user embedding\n",
    "        user_vector = user_index.fetch(ids=[str(user_id)]).vectors[str(user_id)].values\n",
    "\n",
    "        # Get viewed product embedding if provided\n",
    "        if viewed_product:\n",
    "            product_vector = index.fetch(ids=[str(viewed_product)]).vectors[str(viewed_product)].values\n",
    "            hybrid_vector = (np.array(user_vector) + np.array(product_vector)) / 2\n",
    "        else:\n",
    "            hybrid_vector = user_vector\n",
    "\n",
    "        # Query\n",
    "        results = index.query(\n",
    "            vector=hybrid_vector.tolist(),\n",
    "            top_k=top_k,\n",
    "            include_metadata=True\n",
    "        )\n",
    "\n",
    "        return [{\n",
    "            'product_id': match.id,\n",
    "            'description': match.metadata['description'],\n",
    "            'price': match.metadata['price'],\n",
    "            'match_score': match.score\n",
    "        } for match in results.matches]\n",
    "\n",
    "    except Exception as e:\n",
    "        print(f\"Hybrid recommendation error: {e}\")\n",
    "        return []\n",
    "\n",
    "# Test hybrid approach\n",
    "print(\"\\nHybrid recommendations (user + product context):\")\n",
    "for rec in get_hybrid_recommendations(sample_user, sample_product):\n",
    "    print(f\"- {rec['description']} (score: {rec['match_score']:.3f})\")"
   ]
  },
  {
   "cell_type": "code",
   "execution_count": null,
   "metadata": {
    "colab": {
     "base_uri": "https://localhost:8080/"
    },
    "id": "cz-PWK2rjIOJ",
    "outputId": "aac3e479-7253-4128-9e72-8b4b884a87f8"
   },
   "outputs": [],
   "source": [
    "def evaluate_recommendations(test_users, k=5):\n",
    "    \"\"\"Measure precision@k and coverage\"\"\"\n",
    "    hits = 0\n",
    "    total_relevant = 0\n",
    "    recommended_products = set()\n",
    "\n",
    "    for user_id in test_users['CustomerID'].sample(100):  # Evaluate on sample\n",
    "        # Get ground truth\n",
    "        actual_purchases = set(test_df[test_df['CustomerID'] == user_id]['StockCode'].astype(str))\n",
    "\n",
    "        if not actual_purchases:\n",
    "            continue\n",
    "\n",
    "        # Get recommendations\n",
    "        recs = get_personalized_recommendations(user_id, top_k=k)\n",
    "        recommended_ids = {r['product_id'] for r in recs}\n",
    "        recommended_products.update(recommended_ids)\n",
    "\n",
    "        # Calculate hits\n",
    "        hits += len(actual_purchases & recommended_ids)\n",
    "        total_relevant += len(actual_purchases)\n",
    "\n",
    "    precision = hits / (k * len(test_users))\n",
    "    recall = hits / total_relevant if total_relevant > 0 else 0\n",
    "    coverage = len(recommended_products) / len(product_metadata)\n",
    "\n",
    "    return {\n",
    "        \"precision@k\": precision,\n",
    "        \"recall@k\": recall,\n",
    "        \"coverage\": coverage,\n",
    "        \"test_users\": len(test_users)\n",
    "    }\n",
    "\n",
    "# Run evaluation\n",
    "test_df = df.sample(frac=0.2)  # 20% test set\n",
    "metrics = evaluate_recommendations(test_df)\n",
    "print(\"\\nEvaluation Metrics:\")\n",
    "for k, v in metrics.items():\n",
    "    print(f\"- {k}: {v:.3f}\")"
   ]
  },
  {
   "cell_type": "code",
   "execution_count": null,
   "metadata": {
    "colab": {
     "base_uri": "https://localhost:8080/"
    },
    "id": "sYWGRiafjLBI",
    "outputId": "9b66c534-93d5-41d3-aa92-4a4285ef464e"
   },
   "outputs": [],
   "source": [
    "def recommend_for_user(user_id, strategy=\"personalized\", context_product=None, top_k=5):\n",
    "    \"\"\"\n",
    "    Unified recommendation API\n",
    "    Strategies: \"personalized\", \"similar\", \"hybrid\"\n",
    "    \"\"\"\n",
    "    if strategy == \"personalized\":\n",
    "        return get_personalized_recommendations(user_id, top_k)\n",
    "    elif strategy == \"similar\" and context_product:\n",
    "        return get_similar_products(context_product, top_k)\n",
    "    elif strategy == \"hybrid\":\n",
    "        return get_hybrid_recommendations(user_id, context_product, top_k)\n",
    "    else:\n",
    "        raise ValueError(\"Invalid strategy or missing context product\")\n",
    "\n",
    "# Example usage\n",
    "print(\"\\nUnified API examples:\")\n",
    "print(\"1. Personalized:\", recommend_for_user(sample_user, \"personalized\")[0])\n",
    "print(\"2. Similar products:\", recommend_for_user(None, \"similar\", sample_product)[0])\n",
    "print(\"3. Hybrid:\", recommend_for_user(sample_user, \"hybrid\", sample_product)[0])"
   ]
  },
  {
   "cell_type": "code",
   "execution_count": null,
   "metadata": {
    "colab": {
     "base_uri": "https://localhost:8080/"
    },
    "id": "BT7GaBB9k8WU",
    "outputId": "95f643be-8a09-4cc8-d443-85b79e6831c5"
   },
   "outputs": [],
   "source": [
    "from pinecone import Pinecone\n",
    "pc = Pinecone(api_key=\"pcsk_5qM3R_RTNpiTNe6KMSLvYicdZvzc48WR8zXAGYjVH6iozaCeUYkydMhmw42toBHwVhQCJ\")\n",
    "\n",
    "# Initialize indexes\n",
    "product_index = pc.Index(\"product-recs\")\n",
    "user_index = pc.Index(\"user-profiles\")\n",
    "\n",
    "# Get 3 random product IDs from your metadata\n",
    "sample_product_ids = product_metadata['StockCode'].sample(3).astype(str).tolist()\n",
    "\n",
    "# Fetch product vectors (corrected)\n",
    "product_response = product_index.fetch(ids=sample_product_ids)\n",
    "\n",
    "print(\"=== PRODUCT VECTORS ===\")\n",
    "for pid, vector in product_response.vectors.items():\n",
    "    print(f\"\\nProduct ID: {pid}\")\n",
    "    print(f\"Description: {vector.metadata['description']}\")\n",
    "    print(f\"Price: ${vector.metadata['price']:.2f}\")\n",
    "    print(f\"Vector (first 5 dims): {vector.values[:5]}\")"
   ]
  },
  {
   "cell_type": "code",
   "execution_count": null,
   "metadata": {
    "colab": {
     "base_uri": "https://localhost:8080/"
    },
    "id": "k7ksSA0MlOYx",
    "outputId": "f0989e71-8a97-4c32-bd9d-a6ac12a1b350"
   },
   "outputs": [],
   "source": [
    "# Get 3 random user IDs\n",
    "sample_user_ids = user_history['CustomerID'].sample(3).astype(str).tolist()\n",
    "\n",
    "# Fetch user vectors (corrected)\n",
    "user_response = user_index.fetch(ids=sample_user_ids)\n",
    "\n",
    "print(\"\\n=== USER VECTORS ===\")\n",
    "for uid, vector in user_response.vectors.items():\n",
    "    print(f\"\\nUser ID: {uid}\")\n",
    "    print(f\"First Purchase: {vector.metadata['first_purchase']}\")\n",
    "    print(f\"Purchase Count: {vector.metadata['purchases']}\")\n",
    "    print(f\"Vector (first 5 dims): {vector.values[:5]}\")"
   ]
  }
 ],
 "metadata": {
  "colab": {
   "provenance": []
  },
  "kernelspec": {
   "display_name": "Python 3",
   "name": "python3"
  },
  "language_info": {
   "name": "python"
  },
  "widgets": {
   "application/vnd.jupyter.widget-state+json": {
    "state": {}
   }
  }
 },
 "nbformat": 4,
 "nbformat_minor": 0
}
