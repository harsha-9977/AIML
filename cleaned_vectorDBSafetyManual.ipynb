{
 "cells": [
  {
   "cell_type": "code",
   "execution_count": null,
   "metadata": {
    "colab": {
     "base_uri": "https://localhost:8080/"
    },
    "id": "IXLQLcM4LFrT",
    "outputId": "a56784fb-dbef-4a29-de38-3ba01ab13c4d"
   },
   "outputs": [],
   "source": [
    "!pip install pypdf python-dotenv langchain sentence-transformers faiss-cpu hnswlib annoy\n",
    "!pip install -U sentence-transformers"
   ]
  },
  {
   "cell_type": "code",
   "execution_count": null,
   "metadata": {
    "colab": {
     "base_uri": "https://localhost:8080/"
    },
    "id": "C9O_wVuiQj1b",
    "outputId": "78cbe914-7b2e-46f1-9f93-3d35be0cd35e"
   },
   "outputs": [],
   "source": [
    "import torch\n",
    "print(\"GPU available:\", torch.cuda.is_available())"
   ]
  },
  {
   "cell_type": "code",
   "execution_count": null,
   "metadata": {
    "colab": {
     "base_uri": "https://localhost:8080/"
    },
    "id": "SDZoB2SkQlaU",
    "outputId": "e769c811-8f70-459b-cbf9-14c572cd00d5"
   },
   "outputs": [],
   "source": [
    "from google.colab import drive\n",
    "drive.mount('/content/drive')"
   ]
  },
  {
   "cell_type": "code",
   "execution_count": null,
   "metadata": {
    "colab": {
     "base_uri": "https://localhost:8080/"
    },
    "id": "6K9EfwsuRVPC",
    "outputId": "1be51374-32ce-410d-c261-ed57886a3c86"
   },
   "outputs": [],
   "source": [
    "from pypdf import PdfReader\n",
    "from langchain.text_splitter import RecursiveCharacterTextSplitter\n",
    "\n",
    "# Load PDF\n",
    "def load_pdf(file_path):\n",
    "    reader = PdfReader(file_path)\n",
    "    text = \"\"\n",
    "    for page in reader.pages:\n",
    "        text += page.extract_text()\n",
    "    return text\n",
    "\n",
    "# Split text into chunks\n",
    "def split_text(text, chunk_size=500, chunk_overlap=50):\n",
    "    splitter = RecursiveCharacterTextSplitter(\n",
    "        chunk_size=chunk_size,\n",
    "        chunk_overlap=chunk_overlap,\n",
    "        length_function=len\n",
    "    )\n",
    "    return splitter.split_text(text)\n",
    "\n",
    "# Process the PDF\n",
    "file_path = \"/content/OSHA4472.pdf\"  # Change if your filename is different\n",
    "text = load_pdf(file_path)\n",
    "chunks = split_text(text)\n",
    "\n",
    "print(f\"Loaded {len(chunks)} chunks\")\n",
    "print(\"Sample chunk:\\n\", chunks[0][:200] + \"...\")  # Show first 200 chars of first chunk"
   ]
  },
  {
   "cell_type": "code",
   "execution_count": null,
   "metadata": {
    "colab": {
     "base_uri": "https://localhost:8080/",
     "height": 584,
     "referenced_widgets": [
      "5042720f1c97421280e60134b5a19d92",
      "6736d8e492ee45e887dc4211a7f5d678",
      "447da9cf749c4b1b943f660619c8237c",
      "d7e7154ebc4b4b54be4af1b8beb1dc61",
      "675a5ffc49424c1685d1726229dd3d79",
      "922a33cbf78a4f1f927d0e8d1e9f6349",
      "3e4fde90a52a4f019c5b7e231da8f84d",
      "b93332e6828f49fc9218646ba9ccb69a",
      "1d8f3b51b6be476484953830dda97c3f",
      "5da0bbe5dc3c4ba58967d7f5789ea1df",
      "db10f94edeea440fa82eb486ecef7dd1",
      "63db040a58c742babad2303853d8a59c",
      "0181d1a5d9f74be5a48fc23f54789f24",
      "44a4dc1e413e46109c5e033460ee6536",
      "38f00184d1a948d9abc8a76f576aa3b6",
      "ea3d5f6852c84a04a5c796ce00c646ef",
      "1a913db662b0442489dbd9eac6992f0f",
      "eaab1ff06dfb474ea4b43154e365fe80",
      "5ccb299ff5104c3081e0efaee81a0768",
      "5d51ecdcfde4481daa77d19cb784b107",
      "dcbe9992080e4c8ea8d8f420d621d288",
      "d6610c3c36da41d2b01a8e5f4bbb2016",
      "48bcf137fe98482791f4d21a3ce92576",
      "abd9fab43b7a48af99e4e28dd10d9fb6",
      "ba557119c38847c0ba890d1c41f8bd28",
      "edd993f9b8d441f6bf02af474ffe15fd",
      "bf0385d0494f481c93c2808c8dcc0f8f",
      "347620ba5d744b3d9d3a5bc0389e6973",
      "70b207876fc441e39ea4cdd380e86fe8",
      "9171a210a9e94ed2bef6a2e0ffe42766",
      "86057908cd9f4b4483c828bc71f6f94c",
      "202c2cab727e4a6884855746cf010ba2",
      "524b58fe0c52470f88d66db5b0416b3a",
      "51e96f3fe295434b8d36c04056edd5cb",
      "09af84d03d924d76992925613ff37027",
      "aa829551352e4727829737a21f200692",
      "b6e073ca6ffd48c1ad0fe855d7a3c290",
      "91fca1bfdc0f4eed8f7a9e7e9cc22156",
      "c35e706fb5d34776add8b285cbe78c08",
      "75d9e4596f9d424194df460012b990b9",
      "a67afaa16f344a40ba0fa445ffc139da",
      "d3ca9cb7d7dc4571acc2960ace6cd343",
      "c20420eee7944f7da8ebd69b89d8e4f5",
      "72e8b74b7a5f41f4b454cf9aef3b7c6f",
      "7f898962d669468da5c7b35e280c3988",
      "4a05e466cc8240f3a68ec18eb2ce17f3",
      "638c0b4e19724b109972e2c81709955e",
      "53de8e7151e9466891963425488868bf",
      "b16d55205f914eafbb3853bc6c568e45",
      "75e41ff215cd46aea51facdf9cdb815d",
      "cda433d39a164eff8697f8ff99b22086",
      "f83a16270bfe485196d2c723efa3f0cd",
      "163e49825c4045c4924516bfef903b43",
      "9044dab91e81441c86b138475c86a18b",
      "e7df850946a24acda132599f1f8fc473",
      "ce7a2f9221e44f82990b43a4aa287108",
      "6e09b242eeb647598a733af4031fddb5",
      "e2cdc9ecbc09411fa5c054d4b5846e54",
      "c09a71fa98e14d7d8ba1d1b7ee586f75",
      "1626658861d44cd2bbd4461055b9ab27",
      "3358f2cdb41044b3b52f9c377b2428fa",
      "04f90f94ffe44d67b231a99c37a8590a",
      "aebdd226ec3144898396fd2a3f4cae55",
      "4eaa8afd4c334ce1b5ff3d2a8eeb4738",
      "18a64c39dc1f47d798f74280b416c0c0",
      "c086cfb3c75544e2a9ec107c1b41ac3b",
      "48acd037f30c45eab567c52159ce1f58",
      "c349aec9a3a64fa5b4df93d1b01c5c65",
      "52094cf9c19a47f8a9a4d5079e289b1f",
      "b91d17732eb34767aff249307798137b",
      "ef18673d10ec41dd8b67fc24e0778b2d",
      "0b7f94d96916455c89d23d9b2f0957bb",
      "066c117fa7fc405cb0285ce429a6a36f",
      "a49f95037f11436cad28a0b0470d0e7f",
      "d827dac20156410c99b0fdd3a8babc57",
      "b3709586209f4259b7b2a6b14c7c8c58",
      "5bf49b4350fa46e3b248cea163c5d9e2",
      "4d83e2f512514d4aaab3fb50d751efc1",
      "b2a506b2fe3e497cb54105c9c14370ae",
      "95df09c5cc3240e982ff11e0b10c7e24",
      "ee1c383308de4a32b093c3afda02d184",
      "b2a00d00c1db49e38330b37a287eab80",
      "1949f1aac6624ab596c361fb974abfd7",
      "f998ed7d81124455aa2d80f882cf997c",
      "a0bb98e5ef814b8591f25141e1745d1b",
      "0832abe82c18457b9d31d159316455bc",
      "b29e1e63645a4a7ab3d5335eac01e23a",
      "9836bb2e301c48169731ddb7f11810bf",
      "5b78ad3f67e24c5e85764677790bbad5",
      "e96c9b374fd24840b718e8a329cc8c6a",
      "84582a83b251474da7375308eaa1c24f",
      "93fd992429c740e18cbc88630100807a",
      "843ab67ee72e40928dfd0d91bd472f65",
      "b4074fc24f38434392100595f47089a0",
      "bcb933822ee74023b0552d63466dc691",
      "1fbc595176fe47e1a74f73e5e110b731",
      "9f879e303c5b412f8b6c23a3a5e30dfd",
      "5b0fc43c2b6e4c26837b1a93bd694cf8",
      "a238e175f9554af683593d3312d0216b",
      "6c9895f530df4d6dbcb6a16347bd3aad",
      "9b4de8cfc3dd4c2dbe51702b678f7f70",
      "a862b8e70a0742e494dba2df30f6521c",
      "b3f47a814e574ea68e279127379e7075",
      "dec94d0419044da486bb329a8997dc14",
      "9f79badda82b4d13943ac7f2b0b52289",
      "37c8b9fe465f4300ac16f36f7671f3d6",
      "faf3f3286a73428382b2f6c68ff12405",
      "adcaa965a4a2463b84979bd529df1bba",
      "9f81b1d7b6104a4996b64d574849ca67",
      "90018a5e7c1f43a380522cab0ef7eae3",
      "89351ac35f6c4758b995504c75b50f5e",
      "a9774c2952bc4b2298db80ae18f9fc4f",
      "9ecce59eb25c4193a380bcd1b228bc9a",
      "bb1e644c2dc5471d909791bde3ef742e",
      "11f0b7acc0c242e29ce650bfbe4bc1db",
      "ce20342b226b435cb620e5c84320b161",
      "ef78ffc443cb4e558617092f124c35bf",
      "8e7425d4ea2c4169ae67dff8817c8e9a",
      "ff5fad9436ba41d59f51e71e7068ccc4",
      "7e3b86e839434642a688bde12c876c02",
      "c269d2a9813249b9954f1a7f79ffd0c4",
      "6cd539d3353649c1ad826930b21f8c8d",
      "6139686965ea4494a2f6fe649baeb051",
      "a4aff348ef1f467981825823b9f6692c",
      "0afddb6e9f7f48a0913c06d537e16707",
      "47e0612a1cc14f08815a145fc9e37dfa",
      "afb40ee6f3794ca7a57137489da1f99e",
      "adf7f637737b40da83165abb68c8afaf",
      "a75012d39f8c4bf38434458e53661435",
      "9dfcf251db794c418fc44a69054f7086",
      "1432bd918c8740d298d9b692ae26f8ea",
      "cf21dd1e05ce4b7a822fae060b90bea3"
     ]
    },
    "id": "1JDevT2tSCMb",
    "outputId": "a438f680-0af0-49e9-af11-9082d1c49ac6"
   },
   "outputs": [],
   "source": [
    "import numpy as np\n",
    "from sentence_transformers import SentenceTransformer\n",
    "import time\n",
    "import faiss\n",
    "\n",
    "# Initialize embedding model\n",
    "model = SentenceTransformer('all-MiniLM-L6-v2')\n",
    "\n",
    "# Generate embeddings\n",
    "start_time = time.time()\n",
    "embeddings = model.encode(chunks, show_progress_bar=True)\n",
    "embeddings = np.array(embeddings, dtype='float32')  # FAISS requires float32\n",
    "end_time = time.time()\n",
    "\n",
    "print(f\"Generated {len(embeddings)} embeddings in {end_time-start_time:.2f} seconds\")\n",
    "print(f\"Embedding dimension: {embeddings.shape[1]}\")\n",
    "print(f\"Embeddings dtype: {embeddings.dtype}\")\n",
    "\n",
    "# Create FAISS index (we'll use this for comparison later)\n",
    "dimension = embeddings.shape[1]\n",
    "faiss_index = faiss.IndexFlatL2(dimension)\n",
    "faiss_index.add(embeddings)\n",
    "\n",
    "# Save everything\n",
    "np.save('/content/embeddings.npy', embeddings)\n",
    "faiss.write_index(faiss_index, '/content/faiss_flat.index')\n",
    "\n",
    "# Text database\n",
    "text_database = {i: chunk for i, chunk in enumerate(chunks)}"
   ]
  },
  {
   "cell_type": "code",
   "execution_count": null,
   "metadata": {
    "colab": {
     "base_uri": "https://localhost:8080/"
    },
    "id": "URnaZn8oSC07",
    "outputId": "1f21d4b4-4e32-44fd-d426-96498327face"
   },
   "outputs": [],
   "source": [
    "import hnswlib\n",
    "import numpy as np\n",
    "\n",
    "# Load our embeddings from previous step\n",
    "embeddings = np.load('/content/embeddings.npy')\n",
    "dim = embeddings.shape[1]\n",
    "\n",
    "# Create HNSW index\n",
    "hnsw_index = hnswlib.Index(space='cosine', dim=dim)  # Using cosine similarity\n",
    "hnsw_index.init_index(max_elements=len(embeddings), ef_construction=200, M=16)\n",
    "\n",
    "# Add items to index\n",
    "hnsw_index.add_items(embeddings, np.arange(len(embeddings)))\n",
    "\n",
    "# Set query time parameters\n",
    "hnsw_index.set_ef(50)  # Should be > than the number of neighbors you'll query\n",
    "\n",
    "# Save the index\n",
    "hnsw_index.save_index('/content/hnsw_index.bin')\n",
    "\n",
    "# Create retrieval function\n",
    "def hnsw_retrieve(query, k=3):\n",
    "    query_embedding = model.encode([query])\n",
    "    labels, distances = hnsw_index.knn_query(query_embedding, k=k)\n",
    "    return [(text_database[label], float(distance))\n",
    "            for label, distance in zip(labels[0], distances[0])]\n",
    "\n",
    "# Test retrieval\n",
    "test_query = \"What are the electrical safety requirements?\"\n",
    "start_time = time.time()\n",
    "hnsw_results = hnsw_retrieve(test_query)\n",
    "hnsw_time = time.time() - start_time\n",
    "\n",
    "print(f\"HNSW Retrieval Time: {hnsw_time:.4f} seconds\")\n",
    "print(\"Top results:\")\n",
    "for i, (result, score) in enumerate(hnsw_results):\n",
    "    print(f\"\\nResult {i+1} (Score: {score:.3f}):\")\n",
    "    print(result[:200] + \"...\")"
   ]
  },
  {
   "cell_type": "code",
   "execution_count": null,
   "metadata": {
    "colab": {
     "base_uri": "https://localhost:8080/"
    },
    "id": "BLzbAxtHSkoR",
    "outputId": "da8db0d9-3cfa-4b7b-93c8-2a224874cf0c"
   },
   "outputs": [],
   "source": [
    "from annoy import AnnoyIndex\n",
    "import time\n",
    "\n",
    "# Create ANNOY index\n",
    "annoy_index = AnnoyIndex(dim, 'angular')  # Angular distance ≈ cosine similarity\n",
    "for i, emb in enumerate(embeddings):\n",
    "    annoy_index.add_item(i, emb)\n",
    "\n",
    "# Build the index with trees (more trees = more precision)\n",
    "num_trees = 50\n",
    "annoy_index.build(num_trees)\n",
    "\n",
    "# Save the index\n",
    "annoy_index.save('/content/annoy_index.ann')\n",
    "\n",
    "# Create retrieval function with PQ approximation\n",
    "def annoy_retrieve(query, k=3):\n",
    "    query_embedding = model.encode([query])[0]\n",
    "    start_time = time.time()\n",
    "    labels = annoy_index.get_nns_by_vector(query_embedding, k,\n",
    "                                         include_distances=True)\n",
    "    retrieval_time = time.time() - start_time\n",
    "\n",
    "    results = [(text_database[label], 1 - (distance**2)/2)  # Convert angular to cosine\n",
    "              for label, distance in zip(labels[0], labels[1])]\n",
    "    return results, retrieval_time\n",
    "\n",
    "# Test retrieval with same query\n",
    "test_query = \"What are the electrical safety requirements?\"\n",
    "annoy_results, annoy_time = annoy_retrieve(test_query)\n",
    "\n",
    "print(f\"\\nANNOY Retrieval Time: {annoy_time:.4f} seconds\")\n",
    "print(\"Top results:\")\n",
    "for i, (result, score) in enumerate(annoy_results):\n",
    "    print(f\"\\nResult {i+1} (Score: {score:.3f}):\")\n",
    "    print(result[:200] + \"...\")\n",
    "\n",
    "# Add Product Quantization (for memory efficiency)\n",
    "# Note: ANNOY doesn't directly support PQ, so we'll simulate it by reducing dimensionality\n",
    "num_subvectors = 8  # Number of product quantizers\n",
    "pq_dim = dim // num_subvectors  # Dimensions per quantizer\n",
    "\n",
    "print(f\"\\nSimulating PQ with {num_subvectors} subvectors of {pq_dim} dimensions each\")"
   ]
  },
  {
   "cell_type": "code",
   "execution_count": null,
   "metadata": {
    "id": "D5VVW6qoSrBz"
   },
   "outputs": [],
   "source": [
    "test_queries = [\n",
    "    \"What are the electrical safety requirements?\",\n",
    "    \"How should workers handle cement dust exposure?\",\n",
    "    \"What PPE is required for steel welding?\",\n",
    "    \"Emergency procedures for chemical spills\",\n",
    "    \"Scaffolding safety guidelines\"\n",
    "]"
   ]
  },
  {
   "cell_type": "code",
   "execution_count": null,
   "metadata": {
    "id": "ptmz6sKgSsy6"
   },
   "outputs": [],
   "source": [
    "def evaluate_method(method_func, queries):\n",
    "    times = []\n",
    "    results = []\n",
    "\n",
    "    for query in queries:\n",
    "        if method_func.__name__ == 'hnsw_retrieve':\n",
    "            start = time.time()\n",
    "            result = method_func(query)\n",
    "            elapsed = time.time() - start\n",
    "        else:\n",
    "            result, elapsed = method_func(query)\n",
    "\n",
    "        times.append(elapsed)\n",
    "        results.append([r[0] for r in result])  # Just the text results\n",
    "\n",
    "    return results, np.mean(times)\n",
    "\n",
    "# Evaluate both methods\n",
    "hnsw_results, hnsw_avg_time = evaluate_method(hnsw_retrieve, test_queries)\n",
    "annoy_results, annoy_avg_time = evaluate_method(annoy_retrieve, test_queries)"
   ]
  },
  {
   "cell_type": "code",
   "execution_count": null,
   "metadata": {
    "id": "TOBVRBC7SudB"
   },
   "outputs": [],
   "source": [
    "from sklearn.feature_extraction.text import TfidfVectorizer\n",
    "from sklearn.metrics.pairwise import cosine_similarity\n",
    "\n",
    "# Create ground truth using exact cosine similarity\n",
    "def get_ground_truth(query):\n",
    "    query_embed = model.encode([query])\n",
    "    scores = cosine_similarity(query_embed, embeddings)[0]\n",
    "    top_indices = np.argsort(scores)[-3:][::-1]\n",
    "    return [text_database[i] for i in top_indices]\n",
    "\n",
    "# Calculate accuracy metrics\n",
    "def calculate_accuracy(method_results):\n",
    "    accuracies = []\n",
    "    for query, method_result in zip(test_queries, method_results):\n",
    "        ground_truth = get_ground_truth(query)\n",
    "        overlap = len(set(method_result) & set(ground_truth))\n",
    "        accuracies.append(overlap / len(ground_truth))\n",
    "    return np.mean(accuracies)\n",
    "\n",
    "hnsw_accuracy = calculate_accuracy(hnsw_results)\n",
    "annoy_accuracy = calculate_accuracy(annoy_results)"
   ]
  },
  {
   "cell_type": "code",
   "execution_count": null,
   "metadata": {
    "colab": {
     "base_uri": "https://localhost:8080/",
     "height": 545
    },
    "id": "by8Ejh5kSwF6",
    "outputId": "16d285d2-2963-4f2c-9b3a-0250ecb2929d"
   },
   "outputs": [],
   "source": [
    "import matplotlib.pyplot as plt\n",
    "\n",
    "# Data for plotting\n",
    "methods = ['HNSW', 'ANNOY']\n",
    "times = [hnsw_avg_time, annoy_avg_time]\n",
    "accuracies = [hnsw_accuracy, annoy_accuracy]\n",
    "\n",
    "# Create subplots\n",
    "fig, (ax1, ax2) = plt.subplots(1, 2, figsize=(12, 5))\n",
    "\n",
    "# Time comparison\n",
    "ax1.bar(methods, times, color=['blue', 'orange'])\n",
    "ax1.set_title('Average Retrieval Time (seconds)')\n",
    "ax1.set_ylim(0, max(times)*1.1)\n",
    "\n",
    "# Accuracy comparison\n",
    "ax2.bar(methods, accuracies, color=['blue', 'orange'])\n",
    "ax2.set_title('Accuracy (Match with Ground Truth)')\n",
    "ax2.set_ylim(0, 1)\n",
    "\n",
    "plt.tight_layout()\n",
    "plt.show()\n",
    "\n",
    "# Print numerical results\n",
    "print(f\"\\n{'Metric':<20} {'HNSW':<10} {'ANNOY':<10}\")\n",
    "print(f\"{'Avg Time (s)':<20} {hnsw_avg_time:.4f} {annoy_avg_time:.4f}\")\n",
    "print(f\"{'Accuracy':<20} {hnsw_accuracy:.2f} {annoy_accuracy:.2f}\")"
   ]
  },
  {
   "cell_type": "code",
   "execution_count": null,
   "metadata": {
    "id": "xFgqW7FITL8L"
   },
   "outputs": [],
   "source": [
    "def compare_retrieval(query, k=3):\n",
    "    print(f\"\\nQuery: '{query}'\\n\")\n",
    "    print(\"=\"*50)\n",
    "\n",
    "    # HNSW Retrieval\n",
    "    start_time = time.time()\n",
    "    hnsw_results = hnsw_retrieve(query, k=k)\n",
    "    hnsw_time = time.time() - start_time\n",
    "\n",
    "    print(f\"\\nHNSW Results (Time: {hnsw_time:.4f}s):\")\n",
    "    for i, (result, score) in enumerate(hnsw_results):\n",
    "        print(f\"\\nRank {i+1} (Score: {score:.3f}):\")\n",
    "        print(result[:300] + \"...\" if len(result) > 300 else result)\n",
    "\n",
    "    # ANNOY Retrieval\n",
    "    annoy_results, annoy_time = annoy_retrieve(query, k=k)\n",
    "\n",
    "    print(f\"\\nANNOY Results (Time: {annoy_time:.4f}s):\")\n",
    "    for i, (result, score) in enumerate(annoy_results):\n",
    "        print(f\"\\nRank {i+1} (Score: {score:.3f}):\")\n",
    "        print(result[:300] + \"...\" if len(result) > 300 else result)\n",
    "\n",
    "    # Comparison\n",
    "    print(\"\\n\" + \"=\"*50)\n",
    "    print(f\"\\nComparison Summary:\")\n",
    "    print(f\"- HNSW was {annoy_time/hnsw_time:.1f}x faster\" if hnsw_time < annoy_time\n",
    "          else f\"- ANNOY was {hnsw_time/annoy_time:.1f}x faster\")\n",
    "\n",
    "    # Check if top results match\n",
    "    hnsw_top = [r[0] for r in hnsw_results][0]\n",
    "    annoy_top = [r[0] for r in annoy_results][0]\n",
    "    if hnsw_top == annoy_top:\n",
    "        print(\"- Both methods agreed on the top result\")\n",
    "    else:\n",
    "        print(\"- Methods disagreed on the top result\")\n",
    "\n",
    "# Example usage:\n"
   ]
  },
  {
   "cell_type": "code",
   "execution_count": null,
   "metadata": {
    "colab": {
     "base_uri": "https://localhost:8080/"
    },
    "id": "S7I6BNFnTNhK",
    "outputId": "f735016b-580f-4f68-dff0-9de8dc7dcefd"
   },
   "outputs": [],
   "source": [
    "compare_retrieval(\"What are the requirements for working at heights?\")"
   ]
  },
  {
   "cell_type": "code",
   "execution_count": null,
   "metadata": {
    "colab": {
     "base_uri": "https://localhost:8080/"
    },
    "id": "hmcjVfF7TmfP",
    "outputId": "dff45fe0-8d17-4b11-dd4f-33494dec50cc"
   },
   "outputs": [],
   "source": [
    "compare_retrieval(\"How should workers handle cement dust exposure?\")"
   ]
  },
  {
   "cell_type": "code",
   "execution_count": null,
   "metadata": {
    "colab": {
     "base_uri": "https://localhost:8080/"
    },
    "id": "MawHRZS_T9UO",
    "outputId": "b8c3a405-735b-4a4b-d925-30ea283a2c98"
   },
   "outputs": [],
   "source": [
    "compare_retrieval(\"Emergency procedures for chemical spills\")"
   ]
  },
  {
   "cell_type": "code",
   "execution_count": null,
   "metadata": {
    "colab": {
     "base_uri": "https://localhost:8080/"
    },
    "id": "k3QUj1swTyFf",
    "outputId": "3b4152f9-ac14-47f7-955a-b64cede479b5"
   },
   "outputs": [],
   "source": [
    "compare_retrieval(\"What PPE is required for steel welding?\")"
   ]
  },
  {
   "cell_type": "code",
   "execution_count": null,
   "metadata": {
    "colab": {
     "base_uri": "https://localhost:8080/"
    },
    "id": "kRCuTPKJUCmL",
    "outputId": "edea1b29-9168-40a2-82a7-6b160c3a973d"
   },
   "outputs": [],
   "source": [
    "compare_retrieval(\"Scaffolding safety guidelines\")"
   ]
  }
 ],
 "metadata": {
  "accelerator": "GPU",
  "colab": {
   "gpuType": "T4",
   "provenance": []
  },
  "kernelspec": {
   "display_name": "Python 3",
   "name": "python3"
  },
  "language_info": {
   "name": "python"
  },
  "widgets": {
   "application/vnd.jupyter.widget-state+json": {
    "state": {}
   }
  }
 },
 "nbformat": 4,
 "nbformat_minor": 0
}
