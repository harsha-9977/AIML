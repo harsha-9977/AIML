{
  "nbformat": 4,
  "nbformat_minor": 0,
  "metadata": {
    "colab": {
      "provenance": [],
      "gpuType": "T4",
      "authorship_tag": "ABX9TyOKOv/s43Zf8ytMzwb4eV2i",
      "include_colab_link": true
    },
    "kernelspec": {
      "name": "python3",
      "display_name": "Python 3"
    },
    "language_info": {
      "name": "python"
    },
    "accelerator": "GPU"
  },
  "cells": [
    {
      "cell_type": "markdown",
      "metadata": {
        "id": "view-in-github",
        "colab_type": "text"
      },
      "source": [
        "<a href=\"https://colab.research.google.com/github/harsha-9977/AIML/blob/main/dog_audio_detector.ipynb\" target=\"_parent\"><img src=\"https://colab.research.google.com/assets/colab-badge.svg\" alt=\"Open In Colab\"/></a>"
      ]
    },
    {
      "cell_type": "code",
      "execution_count": 6,
      "metadata": {
        "colab": {
          "base_uri": "https://localhost:8080/"
        },
        "id": "FxVJxliq4EUe",
        "outputId": "955725e5-ea98-45c2-98f5-855ede5387f5"
      },
      "outputs": [
        {
          "output_type": "stream",
          "name": "stderr",
          "text": [
            "Downloading dog: 100%|██████████| 50/50 [00:53<00:00,  1.08s/it]\n",
            "Downloading not_dog: 100%|██████████| 50/50 [00:51<00:00,  1.03s/it]\n"
          ]
        }
      ],
      "source": [
        "import os\n",
        "import requests\n",
        "from tqdm import tqdm\n",
        "\n",
        "API_KEY = \"oPoKowbhXAZ0Y7eMWaRbVhphU1EUhfMjIUoIYIBL\"\n",
        "BASE_URL = \"https://freesound.org/apiv2\"\n",
        "HEADERS = {\"Authorization\": f\"Token {API_KEY}\"}\n",
        "\n",
        "def search_and_download(query, label, count=50):\n",
        "    save_dir = f\"data/{label}\"\n",
        "    os.makedirs(save_dir, exist_ok=True)\n",
        "\n",
        "    params = {\n",
        "        \"query\": query,\n",
        "        \"fields\": \"id,previews\",  # make sure previews field is included\n",
        "        \"page_size\": count,\n",
        "    }\n",
        "\n",
        "    r = requests.get(f\"{BASE_URL}/search/text/\", headers=HEADERS, params=params)\n",
        "    results = r.json()[\"results\"]\n",
        "\n",
        "    for i, item in enumerate(tqdm(results, desc=f\"Downloading {label}\")):\n",
        "        try:\n",
        "            preview_url = item[\"previews\"].get(\"preview-hq-mp3\") or item[\"previews\"].get(\"preview_lq_mp3\")\n",
        "            if not preview_url:\n",
        "                print(f\"Skipping {i}: no preview found\")\n",
        "                continue\n",
        "            audio_data = requests.get(preview_url).content\n",
        "            with open(f\"{save_dir}/{label}_{i}.mp3\", \"wb\") as f:\n",
        "                f.write(audio_data)\n",
        "        except Exception as e:\n",
        "            print(f\"Error with item {i}: {e}\")\n",
        "\n",
        "# Get 50 dog barks and 50 not-dog sounds\n",
        "search_and_download(\"dog bark\", \"dog\", 50)\n",
        "search_and_download(\"car horn\", \"not_dog\", 50)  # you can change this to birds, rain, etc.\n"
      ]
    },
    {
      "cell_type": "code",
      "source": [
        "import librosa\n",
        "import librosa.display\n",
        "import numpy as np\n",
        "import os\n",
        "import soundfile as sf\n",
        "\n",
        "def extract_features(folder):\n",
        "    features, labels = [], []\n",
        "    for label in [\"dog\", \"not_dog\"]:\n",
        "        files = os.listdir(f\"data/{label}\")\n",
        "        for file in tqdm(files, desc=f\"Processing {label}\"):\n",
        "            filepath = f\"data/{label}/{file}\"\n",
        "            try:\n",
        "                y, sr = librosa.load(filepath, sr=22050)\n",
        "                melspec = librosa.feature.melspectrogram(y=y, sr=sr, n_mels=128)\n",
        "                melspec_db = librosa.power_to_db(melspec, ref=np.max)\n",
        "                if melspec_db.shape[1] < 128:\n",
        "                    continue  # skip short clips\n",
        "                features.append(melspec_db[:, :128])  # crop/pad to same shape\n",
        "                labels.append(1 if label == \"dog\" else 0)\n",
        "            except Exception as e:\n",
        "                print(f\"Error with {file}: {e}\")\n",
        "    return np.array(features), np.array(labels)\n",
        "\n",
        "X, y = extract_features(\"data/\")\n",
        "X = X[..., np.newaxis]  # add channel dimension for CNN\n",
        "print(\"Feature shape:\", X.shape, \"Labels:\", y.shape)\n"
      ],
      "metadata": {
        "colab": {
          "base_uri": "https://localhost:8080/"
        },
        "id": "D679xQsd6Et3",
        "outputId": "b346d4f9-9129-4ad8-e5c7-c2d6a6c1bebd"
      },
      "execution_count": 7,
      "outputs": [
        {
          "output_type": "stream",
          "name": "stderr",
          "text": [
            "Processing dog: 100%|██████████| 50/50 [00:21<00:00,  2.29it/s]\n",
            "Processing not_dog: 100%|██████████| 50/50 [00:06<00:00,  8.08it/s]"
          ]
        },
        {
          "output_type": "stream",
          "name": "stdout",
          "text": [
            "Feature shape: (73, 128, 128, 1) Labels: (73,)\n"
          ]
        },
        {
          "output_type": "stream",
          "name": "stderr",
          "text": [
            "\n"
          ]
        }
      ]
    },
    {
      "cell_type": "code",
      "source": [
        "import tensorflow as tf\n",
        "from tensorflow.keras import layers, models\n",
        "from sklearn.model_selection import train_test_split\n",
        "\n",
        "X_train, X_test, y_train, y_test = train_test_split(X, y, test_size=0.2, random_state=42)\n",
        "\n",
        "model = models.Sequential([\n",
        "    layers.Conv2D(32, (3, 3), activation='relu', input_shape=X.shape[1:]),\n",
        "    layers.MaxPooling2D((2, 2)),\n",
        "    layers.Conv2D(64, (3, 3), activation='relu'),\n",
        "    layers.MaxPooling2D((2, 2)),\n",
        "    layers.Flatten(),\n",
        "    layers.Dense(64, activation='relu'),\n",
        "    layers.Dense(1, activation='sigmoid')\n",
        "])\n",
        "\n",
        "model.compile(optimizer='adam',\n",
        "              loss='binary_crossentropy',\n",
        "              metrics=['accuracy'])\n",
        "\n",
        "model.fit(X_train, y_train, epochs=10, validation_data=(X_test, y_test))\n",
        "model.save(\"dog_audio_classifier.h5\")\n"
      ],
      "metadata": {
        "colab": {
          "base_uri": "https://localhost:8080/"
        },
        "id": "qQqIkJI26UrA",
        "outputId": "d9562fe6-b193-4e45-b5ad-89f9ecc0832d"
      },
      "execution_count": 8,
      "outputs": [
        {
          "output_type": "stream",
          "name": "stderr",
          "text": [
            "/usr/local/lib/python3.11/dist-packages/keras/src/layers/convolutional/base_conv.py:107: UserWarning: Do not pass an `input_shape`/`input_dim` argument to a layer. When using Sequential models, prefer using an `Input(shape)` object as the first layer in the model instead.\n",
            "  super().__init__(activity_regularizer=activity_regularizer, **kwargs)\n"
          ]
        },
        {
          "output_type": "stream",
          "name": "stdout",
          "text": [
            "Epoch 1/10\n",
            "\u001b[1m2/2\u001b[0m \u001b[32m━━━━━━━━━━━━━━━━━━━━\u001b[0m\u001b[37m\u001b[0m \u001b[1m8s\u001b[0m 2s/step - accuracy: 0.5575 - loss: 62.6729 - val_accuracy: 0.4000 - val_loss: 226.6372\n",
            "Epoch 2/10\n",
            "\u001b[1m2/2\u001b[0m \u001b[32m━━━━━━━━━━━━━━━━━━━━\u001b[0m\u001b[37m\u001b[0m \u001b[1m4s\u001b[0m 193ms/step - accuracy: 0.5679 - loss: 132.3344 - val_accuracy: 0.6000 - val_loss: 28.5874\n",
            "Epoch 3/10\n",
            "\u001b[1m2/2\u001b[0m \u001b[32m━━━━━━━━━━━━━━━━━━━━\u001b[0m\u001b[37m\u001b[0m \u001b[1m0s\u001b[0m 141ms/step - accuracy: 0.4217 - loss: 44.5325 - val_accuracy: 0.6000 - val_loss: 19.0648\n",
            "Epoch 4/10\n",
            "\u001b[1m2/2\u001b[0m \u001b[32m━━━━━━━━━━━━━━━━━━━━\u001b[0m\u001b[37m\u001b[0m \u001b[1m0s\u001b[0m 254ms/step - accuracy: 0.4009 - loss: 23.4182 - val_accuracy: 0.4000 - val_loss: 16.0125\n",
            "Epoch 5/10\n",
            "\u001b[1m2/2\u001b[0m \u001b[32m━━━━━━━━━━━━━━━━━━━━\u001b[0m\u001b[37m\u001b[0m \u001b[1m1s\u001b[0m 332ms/step - accuracy: 0.6096 - loss: 12.4711 - val_accuracy: 0.4000 - val_loss: 20.1751\n",
            "Epoch 6/10\n",
            "\u001b[1m2/2\u001b[0m \u001b[32m━━━━━━━━━━━━━━━━━━━━\u001b[0m\u001b[37m\u001b[0m \u001b[1m1s\u001b[0m 302ms/step - accuracy: 0.5887 - loss: 12.3224 - val_accuracy: 0.4000 - val_loss: 6.4880\n",
            "Epoch 7/10\n",
            "\u001b[1m2/2\u001b[0m \u001b[32m━━━━━━━━━━━━━━━━━━━━\u001b[0m\u001b[37m\u001b[0m \u001b[1m0s\u001b[0m 282ms/step - accuracy: 0.5887 - loss: 3.3740 - val_accuracy: 0.8000 - val_loss: 0.5345\n",
            "Epoch 8/10\n",
            "\u001b[1m2/2\u001b[0m \u001b[32m━━━━━━━━━━━━━━━━━━━━\u001b[0m\u001b[37m\u001b[0m \u001b[1m0s\u001b[0m 218ms/step - accuracy: 0.8560 - loss: 0.5067 - val_accuracy: 0.6000 - val_loss: 0.6915\n",
            "Epoch 9/10\n",
            "\u001b[1m2/2\u001b[0m \u001b[32m━━━━━━━━━━━━━━━━━━━━\u001b[0m\u001b[37m\u001b[0m \u001b[1m1s\u001b[0m 339ms/step - accuracy: 0.8560 - loss: 0.3694 - val_accuracy: 0.8000 - val_loss: 0.3395\n",
            "Epoch 10/10\n",
            "\u001b[1m2/2\u001b[0m \u001b[32m━━━━━━━━━━━━━━━━━━━━\u001b[0m\u001b[37m\u001b[0m \u001b[1m0s\u001b[0m 70ms/step - accuracy: 0.9009 - loss: 0.2374 - val_accuracy: 0.8667 - val_loss: 0.6950\n"
          ]
        },
        {
          "output_type": "stream",
          "name": "stderr",
          "text": [
            "WARNING:absl:You are saving your model as an HDF5 file via `model.save()` or `keras.saving.save_model(model)`. This file format is considered legacy. We recommend using instead the native Keras format, e.g. `model.save('my_model.keras')` or `keras.saving.save_model(model, 'my_model.keras')`. \n"
          ]
        }
      ]
    },
    {
      "cell_type": "code",
      "source": [
        "import librosa\n",
        "import numpy as np\n",
        "from tensorflow.keras.models import load_model\n",
        "\n",
        "# Load trained model once globally\n",
        "model = load_model(\"dog_audio_classifier.h5\")\n",
        "\n",
        "def predict_audio(filename):\n",
        "    try:\n",
        "        # Load and process audio\n",
        "        y, sr = librosa.load(filename, sr=22050)\n",
        "        melspec = librosa.feature.melspectrogram(y=y, sr=sr, n_mels=128)\n",
        "        melspec_db = librosa.power_to_db(melspec, ref=np.max)\n",
        "\n",
        "        # Pad or crop to (128, 128)\n",
        "        if melspec_db.shape[1] < 128:\n",
        "            melspec_db = np.pad(melspec_db, ((0, 0), (0, 128 - melspec_db.shape[1])), mode='constant')\n",
        "        else:\n",
        "            melspec_db = melspec_db[:, :128]\n",
        "\n",
        "        # Add channel and batch dimension\n",
        "        input_data = melspec_db[np.newaxis, ..., np.newaxis]\n",
        "\n",
        "        # Predict\n",
        "        prediction = model.predict(input_data, verbose=0)[0][0]\n",
        "        result = \"🐶 Dog Sound Detected!\" if prediction > 0.5 else \"❌ Not a Dog Sound\"\n",
        "        confidence = f\"Confidence: {prediction:.2f}\"\n",
        "\n",
        "        return result, confidence\n",
        "\n",
        "    except Exception as e:\n",
        "        return f\"Error: {e}\", None\n"
      ],
      "metadata": {
        "colab": {
          "base_uri": "https://localhost:8080/"
        },
        "id": "JGn8-CQ17V2l",
        "outputId": "2795a2ce-6004-4af8-972e-83f64658d404"
      },
      "execution_count": 57,
      "outputs": [
        {
          "output_type": "stream",
          "name": "stderr",
          "text": [
            "WARNING:absl:Compiled the loaded model, but the compiled metrics have yet to be built. `model.compile_metrics` will be empty until you train or evaluate the model.\n"
          ]
        }
      ]
    },
    {
      "cell_type": "code",
      "source": [
        "result, confidence = predict_audio(\"/content/561801__garuda1982__radio-controlled-toy-car-on-wooden-floor-sound-effect.wav\")\n",
        "print(result)\n",
        "print(confidence)\n"
      ],
      "metadata": {
        "colab": {
          "base_uri": "https://localhost:8080/"
        },
        "id": "S2i5tGZq7X5d",
        "outputId": "f99bdf4f-a92f-4253-c9c6-5dc9a5b41d89"
      },
      "execution_count": 58,
      "outputs": [
        {
          "output_type": "stream",
          "name": "stdout",
          "text": [
            "🐶 Dog Sound Detected!\n",
            "Confidence: 1.00\n"
          ]
        }
      ]
    },
    {
      "cell_type": "code",
      "source": [
        "result, confidence = predict_audio(\"/content/432754__xpoki__dog_bark_small.wav\")\n",
        "print(result)\n",
        "print(confidence)\n"
      ],
      "metadata": {
        "colab": {
          "base_uri": "https://localhost:8080/"
        },
        "id": "2HPVcCnl7eXb",
        "outputId": "cced374b-d99c-416a-a3ee-32f420b90944"
      },
      "execution_count": 59,
      "outputs": [
        {
          "output_type": "stream",
          "name": "stdout",
          "text": [
            "🐶 Dog Sound Detected!\n",
            "Confidence: 0.98\n"
          ]
        }
      ]
    },
    {
      "cell_type": "code",
      "source": [
        "result, confidence = predict_audio(\"/content/test.mp3\")\n",
        "print(result)\n",
        "print(confidence)\n"
      ],
      "metadata": {
        "colab": {
          "base_uri": "https://localhost:8080/"
        },
        "id": "T77gxx5Z7m8c",
        "outputId": "5282d849-5627-42f1-8e8f-07786230913f"
      },
      "execution_count": 60,
      "outputs": [
        {
          "output_type": "stream",
          "name": "stdout",
          "text": [
            "🐶 Dog Sound Detected!\n",
            "Confidence: 0.94\n"
          ]
        }
      ]
    },
    {
      "cell_type": "code",
      "source": [
        "result, confidence = predict_audio(\"/content/data/not_dog/not_dog_16.mp3\")\n",
        "print(result)\n",
        "print(confidence)\n"
      ],
      "metadata": {
        "colab": {
          "base_uri": "https://localhost:8080/"
        },
        "id": "4G7AopIw7ueR",
        "outputId": "89cbf7c4-aece-44d8-f3f0-26369a24c4c2"
      },
      "execution_count": 61,
      "outputs": [
        {
          "output_type": "stream",
          "name": "stdout",
          "text": [
            "❌ Not a Dog Sound\n",
            "Confidence: 0.01\n"
          ]
        }
      ]
    },
    {
      "cell_type": "code",
      "source": [
        "result, confidence = predict_audio(\"/content/data/dog/dog_43.mp3\")\n",
        "print(result)\n",
        "print(confidence)\n"
      ],
      "metadata": {
        "colab": {
          "base_uri": "https://localhost:8080/"
        },
        "id": "TpTAQuQ376uJ",
        "outputId": "11373b2a-095d-4a4c-9887-e61823033107"
      },
      "execution_count": 62,
      "outputs": [
        {
          "output_type": "stream",
          "name": "stdout",
          "text": [
            "🐶 Dog Sound Detected!\n",
            "Confidence: 1.00\n"
          ]
        }
      ]
    },
    {
      "cell_type": "code",
      "source": [
        "result, confidence = predict_audio(\"/content/data/dog/dog_16.mp3\")\n",
        "print(result)\n",
        "print(confidence)\n"
      ],
      "metadata": {
        "colab": {
          "base_uri": "https://localhost:8080/"
        },
        "id": "CknNmExr8I_P",
        "outputId": "c1a6218d-ef99-4aa5-cdb9-7578db7d120a"
      },
      "execution_count": 63,
      "outputs": [
        {
          "output_type": "stream",
          "name": "stdout",
          "text": [
            "🐶 Dog Sound Detected!\n",
            "Confidence: 1.00\n"
          ]
        }
      ]
    },
    {
      "cell_type": "code",
      "source": [
        "result, confidence = predict_audio(\"/content/data/not_dog/not_dog_49.mp3\")\n",
        "print(result)\n",
        "print(confidence)\n"
      ],
      "metadata": {
        "colab": {
          "base_uri": "https://localhost:8080/"
        },
        "id": "znLabZAj9F76",
        "outputId": "16349f37-94ac-47c9-e4aa-7a5dd8fc4266"
      },
      "execution_count": 68,
      "outputs": [
        {
          "output_type": "stream",
          "name": "stdout",
          "text": [
            "❌ Not a Dog Sound\n",
            "Confidence: 0.03\n"
          ]
        }
      ]
    },
    {
      "cell_type": "code",
      "source": [
        "label, confidence = predict_audio(\"data/dog/dog_0.mp3\")\n",
        "print(label, confidence)\n"
      ],
      "metadata": {
        "colab": {
          "base_uri": "https://localhost:8080/"
        },
        "id": "h5oQ5ZrS8sYd",
        "outputId": "2b069d2d-a727-4bb3-968f-00180fef309b"
      },
      "execution_count": 48,
      "outputs": [
        {
          "output_type": "stream",
          "name": "stdout",
          "text": [
            "❌ Not a Dog Sound Confidence: 0.24\n"
          ]
        }
      ]
    },
    {
      "cell_type": "code",
      "source": [
        "from sklearn.metrics import accuracy_score\n",
        "\n",
        "y_pred = (model.predict(X_test) > 0.5).astype(\"int\")\n",
        "print(\"Accuracy:\", accuracy_score(y_test, y_pred))\n"
      ],
      "metadata": {
        "colab": {
          "base_uri": "https://localhost:8080/"
        },
        "id": "8lwCozgl8uwF",
        "outputId": "349692bf-cd6f-4460-b147-6173fbe9460f"
      },
      "execution_count": 37,
      "outputs": [
        {
          "output_type": "stream",
          "name": "stdout",
          "text": [
            "\u001b[1m1/1\u001b[0m \u001b[32m━━━━━━━━━━━━━━━━━━━━\u001b[0m\u001b[37m\u001b[0m \u001b[1m0s\u001b[0m 30ms/step\n",
            "Accuracy: 0.8666666666666667\n"
          ]
        }
      ]
    }
  ]
}