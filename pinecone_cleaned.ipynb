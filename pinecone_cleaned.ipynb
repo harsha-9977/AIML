{
 "cells": [
  {
   "cell_type": "code",
   "execution_count": 1,
   "metadata": {
    "colab": {
     "base_uri": "https://localhost:8080/"
    },
    "id": "0n-v01fBj4j_",
    "outputId": "33a271b4-5e7b-4f5a-b73d-86b97ee4a0c6"
   },
   "outputs": [
    {
     "name": "stdout",
     "output_type": "stream",
     "text": [
      "\u001b[2K   \u001b[90m━━━━━━━━━━━━━━━━━━━━━━━━━━━━━━━━━━━━━━━━\u001b[0m \u001b[32m363.4/363.4 MB\u001b[0m \u001b[31m4.2 MB/s\u001b[0m eta \u001b[36m0:00:00\u001b[0m\n",
      "\u001b[2K   \u001b[90m━━━━━━━━━━━━━━━━━━━━━━━━━━━━━━━━━━━━━━━━\u001b[0m \u001b[32m13.8/13.8 MB\u001b[0m \u001b[31m65.0 MB/s\u001b[0m eta \u001b[36m0:00:00\u001b[0m\n",
      "\u001b[2K   \u001b[90m━━━━━━━━━━━━━━━━━━━━━━━━━━━━━━━━━━━━━━━━\u001b[0m \u001b[32m24.6/24.6 MB\u001b[0m \u001b[31m63.5 MB/s\u001b[0m eta \u001b[36m0:00:00\u001b[0m\n",
      "\u001b[2K   \u001b[90m━━━━━━━━━━━━━━━━━━━━━━━━━━━━━━━━━━━━━━━━\u001b[0m \u001b[32m883.7/883.7 kB\u001b[0m \u001b[31m48.0 MB/s\u001b[0m eta \u001b[36m0:00:00\u001b[0m\n",
      "\u001b[2K   \u001b[90m━━━━━━━━━━━━━━━━━━━━━━━━━━━━━━━━━━━━━━━━\u001b[0m \u001b[32m664.8/664.8 MB\u001b[0m \u001b[31m2.1 MB/s\u001b[0m eta \u001b[36m0:00:00\u001b[0m\n",
      "\u001b[2K   \u001b[90m━━━━━━━━━━━━━━━━━━━━━━━━━━━━━━━━━━━━━━━━\u001b[0m \u001b[32m211.5/211.5 MB\u001b[0m \u001b[31m5.9 MB/s\u001b[0m eta \u001b[36m0:00:00\u001b[0m\n",
      "\u001b[2K   \u001b[90m━━━━━━━━━━━━━━━━━━━━━━━━━━━━━━━━━━━━━━━━\u001b[0m \u001b[32m56.3/56.3 MB\u001b[0m \u001b[31m13.0 MB/s\u001b[0m eta \u001b[36m0:00:00\u001b[0m\n",
      "\u001b[2K   \u001b[90m━━━━━━━━━━━━━━━━━━━━━━━━━━━━━━━━━━━━━━━━\u001b[0m \u001b[32m127.9/127.9 MB\u001b[0m \u001b[31m7.1 MB/s\u001b[0m eta \u001b[36m0:00:00\u001b[0m\n",
      "\u001b[2K   \u001b[90m━━━━━━━━━━━━━━━━━━━━━━━━━━━━━━━━━━━━━━━━\u001b[0m \u001b[32m207.5/207.5 MB\u001b[0m \u001b[31m5.2 MB/s\u001b[0m eta \u001b[36m0:00:00\u001b[0m\n",
      "\u001b[2K   \u001b[90m━━━━━━━━━━━━━━━━━━━━━━━━━━━━━━━━━━━━━━━━\u001b[0m \u001b[32m21.1/21.1 MB\u001b[0m \u001b[31m43.6 MB/s\u001b[0m eta \u001b[36m0:00:00\u001b[0m\n",
      "\u001b[?25h"
     ]
    }
   ],
   "source": [
    "!pip install -q pinecone-client sentence-transformers requests\n"
   ]
  },
  {
   "cell_type": "code",
   "execution_count": 6,
   "metadata": {
    "colab": {
     "base_uri": "https://localhost:8080/"
    },
    "id": "Ad3NrP-Oko34",
    "outputId": "0dc19ed9-84b7-4e9f-b8d2-55aedfd22c2c"
   },
   "outputs": [
    {
     "name": "stdout",
     "output_type": "stream",
     "text": [
      "Found existing installation: pinecone-client 6.0.0\n",
      "Uninstalling pinecone-client-6.0.0:\n",
      "  Successfully uninstalled pinecone-client-6.0.0\n",
      "Collecting pinecone\n",
      "  Downloading pinecone-7.3.0-py3-none-any.whl.metadata (9.5 kB)\n",
      "Requirement already satisfied: certifi>=2019.11.17 in /usr/local/lib/python3.11/dist-packages (from pinecone) (2025.6.15)\n",
      "Collecting pinecone-plugin-assistant<2.0.0,>=1.6.0 (from pinecone)\n",
      "  Downloading pinecone_plugin_assistant-1.7.0-py3-none-any.whl.metadata (28 kB)\n",
      "Requirement already satisfied: pinecone-plugin-interface<0.0.8,>=0.0.7 in /usr/local/lib/python3.11/dist-packages (from pinecone) (0.0.7)\n",
      "Requirement already satisfied: python-dateutil>=2.5.3 in /usr/local/lib/python3.11/dist-packages (from pinecone) (2.9.0.post0)\n",
      "Requirement already satisfied: typing-extensions>=3.7.4 in /usr/local/lib/python3.11/dist-packages (from pinecone) (4.14.0)\n",
      "Requirement already satisfied: urllib3>=1.26.0 in /usr/local/lib/python3.11/dist-packages (from pinecone) (2.4.0)\n",
      "Requirement already satisfied: packaging<25.0,>=24.2 in /usr/local/lib/python3.11/dist-packages (from pinecone-plugin-assistant<2.0.0,>=1.6.0->pinecone) (24.2)\n",
      "Requirement already satisfied: requests<3.0.0,>=2.32.3 in /usr/local/lib/python3.11/dist-packages (from pinecone-plugin-assistant<2.0.0,>=1.6.0->pinecone) (2.32.3)\n",
      "Requirement already satisfied: six>=1.5 in /usr/local/lib/python3.11/dist-packages (from python-dateutil>=2.5.3->pinecone) (1.17.0)\n",
      "Requirement already satisfied: charset-normalizer<4,>=2 in /usr/local/lib/python3.11/dist-packages (from requests<3.0.0,>=2.32.3->pinecone-plugin-assistant<2.0.0,>=1.6.0->pinecone) (3.4.2)\n",
      "Requirement already satisfied: idna<4,>=2.5 in /usr/local/lib/python3.11/dist-packages (from requests<3.0.0,>=2.32.3->pinecone-plugin-assistant<2.0.0,>=1.6.0->pinecone) (3.10)\n",
      "Downloading pinecone-7.3.0-py3-none-any.whl (587 kB)\n",
      "\u001b[2K   \u001b[90m━━━━━━━━━━━━━━━━━━━━━━━━━━━━━━━━━━━━━━━━\u001b[0m \u001b[32m587.6/587.6 kB\u001b[0m \u001b[31m10.4 MB/s\u001b[0m eta \u001b[36m0:00:00\u001b[0m\n",
      "\u001b[?25hDownloading pinecone_plugin_assistant-1.7.0-py3-none-any.whl (239 kB)\n",
      "\u001b[2K   \u001b[90m━━━━━━━━━━━━━━━━━━━━━━━━━━━━━━━━━━━━━━━━\u001b[0m \u001b[32m240.0/240.0 kB\u001b[0m \u001b[31m24.2 MB/s\u001b[0m eta \u001b[36m0:00:00\u001b[0m\n",
      "\u001b[?25hInstalling collected packages: pinecone-plugin-assistant, pinecone\n",
      "Successfully installed pinecone-7.3.0 pinecone-plugin-assistant-1.7.0\n"
     ]
    }
   ],
   "source": [
    "!pip uninstall -y pinecone-client\n",
    "!pip install -U pinecone\n"
   ]
  },
  {
   "cell_type": "code",
   "execution_count": 7,
   "metadata": {
    "colab": {
     "base_uri": "https://localhost:8080/",
     "height": 498,
     "referenced_widgets": [
      "0fa56c5dce9b487b89cc85babb38509b",
      "eb9e3ffb36ca4096b1176a3ca93875ba",
      "fc5891f348f4405ba5ac56370d3f24b9",
      "aa463bbcf9c04d64b3da0954ba6f7171",
      "d3a5cff958fb43ff955449596b37b854",
      "cd84f0459d504190bae2f97dbe5d8731",
      "a6ad702a7090401cbed0cb87ba7ab7b8",
      "dc6c900b168c4b69bd5757cf8656e86e",
      "ffec696e65284e499d804e6675385642",
      "353b777d21c34ee4805a7cd2870707cb",
      "d31d548b53b645b6a8f0d251890c8e06",
      "6bfa296287d14563aabe71de8942160c",
      "52b778a0664d40a78b208bab51367bc3",
      "b7f75460edef4a90ad77a85c6f82ee01",
      "686baf0d025840bb84f73b582e47576a",
      "781c621785f04d049141f940974f7db3",
      "3b5cbca717114b169cec091b40e0196b",
      "5458ab69c4214b99a1f99cd84bd38925",
      "c0f607f296e84741b833d06afea0343a",
      "198ddc5ceecf4272a1239f071748fcb2",
      "7ed8eba5bd1544ada53b61865ed1b3d9",
      "3b5b0c3eda1041ff95e3f1e72c7160e9",
      "5c67ecc8d40e42d6bb183c0ebc89b8ec",
      "a4a587ea1a5d4230858d7c9d6882cbbf",
      "b59e741ca7934590b486ad6c27586135",
      "dd0273ba08ac421eae2f1ff3f7d148a3",
      "6c962ec99f3c4882a6ac10ff7119255e",
      "26a9be14c6ba42d494b87342d370bf66",
      "1d69d1288d08424cbaae1cd1f9e31572",
      "8b3ae9b75bde46c0a8ffef888b4bae67",
      "8557a035a217406bafd4bf07337d8bee",
      "a505f1cf797d474ab3f45dc1df39cb79",
      "49a01c34efe64b0b816d8d91e93442d8",
      "fd2ebef846fc49cab39109cc40a26948",
      "57404b94fcfe4caca83ebe4b275c3fcf",
      "27118d373bd9492e9f9f7e87848edff4",
      "c6e86acc792f48099b63af2eb636646f",
      "124493e19aaa45b9b59e36567dff30dd",
      "94b95c82fbe44e36b7577789bf908a6f",
      "7f35c79a2d5943f6a62d9fa3c0474209",
      "b73903ff683b4e81a047f774220e3ac1",
      "dbc5548a3e9648db886c5f805c53a13f",
      "9416bea7ddbe41e29c687d183357f383",
      "ec24926a7a0f416fa0f05c57e746021d",
      "cd2b066c455e40679dc2d2f734ad7ae9",
      "6d58653bc2a54e998798587566aa18d5",
      "1343c1f956a14c9f9f7c6a4b5e373619",
      "dd400c0f3e8048a398c8a581b5ec3c68",
      "f9eaf65b4b2648868aefade7c8525959",
      "87e988646ee3451e8940732f61799efd",
      "4ca8d45f7a5841b495b8e36f1db6b7ca",
      "1ac0c41458af42d8b5b6b035f06708c6",
      "3fa64a8ada194fb5bfe9df4de491c213",
      "483fee3a56c24b6fa690b87f07468398",
      "6672d7b4031f4e53856566d90795d3c0",
      "e1b8b51820404c8bb794bf9fa7eb0f4a",
      "f9fced8530a34deb8b9cdd27d3df31e8",
      "9b042c7daf7149b19ef4e7d8b335ad6b",
      "244e274b01514c5ebabb8f53ad054a64",
      "1e2845968f3144a499828b3f725b37d9",
      "3e584f0919f84b258c3dddee9e5e45cf",
      "c8025e37cac54a15991238b570a9c10c",
      "944b552a57214d21a4fcd5f9add401ee",
      "b285593bab944bae9018a264a478571d",
      "5768239b3fd84677a68fa54d887df243",
      "318dc6333d2a4576b2e96599683971d0",
      "0716ea9882ff4e65bffba4acb293d9bc",
      "c45eb84790a146009665c767fe33762a",
      "4f235b0741854b3fb31b2c1f38204361",
      "7f3af3b4f3f64ac599c23e36002dfced",
      "3eb081f938d146e0bc4a690062d96fc7",
      "300c1d5fa5bb45e19ceb3fdbc3ea1c59",
      "d89c123429a04e1db0296a48f32dbbdd",
      "8010d7556e3f432bb870447f2bb439d1",
      "f9c693fe03454d60a305c8ad7ced22de",
      "f7de1b56d4bd4abeafc475f655a8dc38",
      "88cf09fd55e24f68a7962c69dd32cf2e",
      "50fc917b1b514e1fb40108d7ca58f6e5",
      "31a21a7d199f469aa1d4807f2432bd4d",
      "742022465506467c8f9c35d3ec2b8990",
      "30c304fd514e4be6a9c45aa675d1cfee",
      "0d7dfded52dd48f48016a0cca90cf6cc",
      "3770a3746c114d92ba28789830a6beeb",
      "eb7d874888834cba9d3757c588a59ac0",
      "2c85d4efe4cd4b5a9c473519208a5f61",
      "46ca17b2db9c42ae8bdc347af4d523e3",
      "d638c45ef8864c8fbe99686607e6c744",
      "9557a1593b464d2a9d033536b7e69406",
      "6a6880b435f74d869fb1d173660157fc",
      "d8710fcd6af74482b168056a7d106dfc",
      "a7ea60e2626f4a9fbf1e5dac607f732a",
      "2c70bef76fec4c7b93e9e12d8740814f",
      "afed74dcd2bc4ee1ae5abd8863f6adb6",
      "7b2504b2aa8a41298453a5248ba569d6",
      "a762c72ed8e04030aad2d6b9a86ce7ab",
      "f9b7ecb79a6a477a83741c3d94d6d358",
      "d68b5ccb181440f9806af2d59bdf47fe",
      "82505c74919f4684ab5b048f42b715ee",
      "591456f71e89459cab7bed701f136e24",
      "01abfa53249a4d80857142bc3295e81c",
      "8605ad493b71436f970a2feb1ad4612e",
      "3d74c6232a914a049a137bf2c6382a53",
      "a3db747458df43508f87c0943b444c4d",
      "9696256d366d4a1fb743bccf26e00c2d",
      "ab10ab5ed8694e7ca92ac4a3b5251adc",
      "2c18fe8c8ddb45d4bd96cde617e06271",
      "4a6ea22a94874d45935b218640e428bd",
      "0b68ff07fe02424186c06c69f5219474",
      "fb979450138445688139f47d3c794a35",
      "80f874d7bb5b42498872f2eb5648dba7",
      "e7f6a1d06e0949748a81dee82c80536a",
      "5c9529bff1054fa69e15a0018f954aa7",
      "3a57b05515b341c19b8713fae8fa1f94",
      "075f6b748de6487a9d7ad8339328f8c2",
      "33b7aebc6f95446b8d1f0e7d1af214fe",
      "6cfde46668fe4bde815bf9af09ac5450",
      "87434921ac5f4ba59259b23e54f5bf85",
      "21fd4b156f7c4166858a6cd53044ccb9",
      "3fe8ee49dce24215bf7f0adfe79ee45f",
      "d94ee1818d35499ca58c1b185945f9e9",
      "b7234be3ffb9497cbb7065d2d47c4672"
     ]
    },
    "id": "idTXc_bgkDyQ",
    "outputId": "03dd5db9-879c-4c45-d7d0-46560d6293a1"
   },
   "outputs": [
    {
     "name": "stderr",
     "output_type": "stream",
     "text": [
      "/usr/local/lib/python3.11/dist-packages/huggingface_hub/utils/_auth.py:94: UserWarning: \n",
      "The secret `HF_TOKEN` does not exist in your Colab secrets.\n",
      "To authenticate with the Hugging Face Hub, create a token in your settings tab (https://huggingface.co/settings/tokens), set it as secret in your Google Colab and restart your session.\n",
      "You will be able to reuse this secret in all of your notebooks.\n",
      "Please note that authentication is recommended but still optional to access public models or datasets.\n",
      "  warnings.warn(\n"
     ]
    },
    {
     "data": {
      "application/vnd.jupyter.widget-view+json": {
       "model_id": "0fa56c5dce9b487b89cc85babb38509b",
       "version_major": 2,
       "version_minor": 0
      },
      "text/plain": [
       "modules.json:   0%|          | 0.00/349 [00:00<?, ?B/s]"
      ]
     },
     "metadata": {},
     "output_type": "display_data"
    },
    {
     "data": {
      "application/vnd.jupyter.widget-view+json": {
       "model_id": "6bfa296287d14563aabe71de8942160c",
       "version_major": 2,
       "version_minor": 0
      },
      "text/plain": [
       "config_sentence_transformers.json:   0%|          | 0.00/116 [00:00<?, ?B/s]"
      ]
     },
     "metadata": {},
     "output_type": "display_data"
    },
    {
     "data": {
      "application/vnd.jupyter.widget-view+json": {
       "model_id": "5c67ecc8d40e42d6bb183c0ebc89b8ec",
       "version_major": 2,
       "version_minor": 0
      },
      "text/plain": [
       "README.md: 0.00B [00:00, ?B/s]"
      ]
     },
     "metadata": {},
     "output_type": "display_data"
    },
    {
     "data": {
      "application/vnd.jupyter.widget-view+json": {
       "model_id": "fd2ebef846fc49cab39109cc40a26948",
       "version_major": 2,
       "version_minor": 0
      },
      "text/plain": [
       "sentence_bert_config.json:   0%|          | 0.00/53.0 [00:00<?, ?B/s]"
      ]
     },
     "metadata": {},
     "output_type": "display_data"
    },
    {
     "data": {
      "application/vnd.jupyter.widget-view+json": {
       "model_id": "cd2b066c455e40679dc2d2f734ad7ae9",
       "version_major": 2,
       "version_minor": 0
      },
      "text/plain": [
       "config.json:   0%|          | 0.00/612 [00:00<?, ?B/s]"
      ]
     },
     "metadata": {},
     "output_type": "display_data"
    },
    {
     "data": {
      "application/vnd.jupyter.widget-view+json": {
       "model_id": "e1b8b51820404c8bb794bf9fa7eb0f4a",
       "version_major": 2,
       "version_minor": 0
      },
      "text/plain": [
       "model.safetensors:   0%|          | 0.00/90.9M [00:00<?, ?B/s]"
      ]
     },
     "metadata": {},
     "output_type": "display_data"
    },
    {
     "data": {
      "application/vnd.jupyter.widget-view+json": {
       "model_id": "0716ea9882ff4e65bffba4acb293d9bc",
       "version_major": 2,
       "version_minor": 0
      },
      "text/plain": [
       "tokenizer_config.json:   0%|          | 0.00/350 [00:00<?, ?B/s]"
      ]
     },
     "metadata": {},
     "output_type": "display_data"
    },
    {
     "data": {
      "application/vnd.jupyter.widget-view+json": {
       "model_id": "50fc917b1b514e1fb40108d7ca58f6e5",
       "version_major": 2,
       "version_minor": 0
      },
      "text/plain": [
       "vocab.txt: 0.00B [00:00, ?B/s]"
      ]
     },
     "metadata": {},
     "output_type": "display_data"
    },
    {
     "data": {
      "application/vnd.jupyter.widget-view+json": {
       "model_id": "6a6880b435f74d869fb1d173660157fc",
       "version_major": 2,
       "version_minor": 0
      },
      "text/plain": [
       "tokenizer.json: 0.00B [00:00, ?B/s]"
      ]
     },
     "metadata": {},
     "output_type": "display_data"
    },
    {
     "data": {
      "application/vnd.jupyter.widget-view+json": {
       "model_id": "01abfa53249a4d80857142bc3295e81c",
       "version_major": 2,
       "version_minor": 0
      },
      "text/plain": [
       "special_tokens_map.json:   0%|          | 0.00/112 [00:00<?, ?B/s]"
      ]
     },
     "metadata": {},
     "output_type": "display_data"
    },
    {
     "data": {
      "application/vnd.jupyter.widget-view+json": {
       "model_id": "e7f6a1d06e0949748a81dee82c80536a",
       "version_major": 2,
       "version_minor": 0
      },
      "text/plain": [
       "config.json:   0%|          | 0.00/190 [00:00<?, ?B/s]"
      ]
     },
     "metadata": {},
     "output_type": "display_data"
    }
   ],
   "source": [
    "import os\n",
    "from pinecone import Pinecone\n",
    "from sentence_transformers import SentenceTransformer\n",
    "\n",
    "PINECONE_API_KEY = \"pcsk_5qM3R_RTNpiTNe6KMSLvYicdZvzc48WR8zXAGYjVH6iozaCeUYkydMhmw42toBHwVhQCJ\"\n",
    "PINECONE_ENV = \"us-east-1\"\n",
    "\n",
    "pc = Pinecone(api_key=PINECONE_API_KEY)\n",
    "model = SentenceTransformer(\"all-MiniLM-L6-v2\")  # 384-dim\n"
   ]
  },
  {
   "cell_type": "code",
   "execution_count": 8,
   "metadata": {
    "colab": {
     "base_uri": "https://localhost:8080/"
    },
    "id": "a3873Y8YkMww",
    "outputId": "00e9a3be-61ff-4acf-cf80-99244926e745"
   },
   "outputs": [
    {
     "data": {
      "text/plain": [
       "{\n",
       "    \"name\": \"imdb-movie-index-test\",\n",
       "    \"metric\": \"cosine\",\n",
       "    \"host\": \"imdb-movie-index-test-ta01y6m.svc.aped-4627-b74a.pinecone.io\",\n",
       "    \"spec\": {\n",
       "        \"serverless\": {\n",
       "            \"cloud\": \"aws\",\n",
       "            \"region\": \"us-east-1\"\n",
       "        }\n",
       "    },\n",
       "    \"status\": {\n",
       "        \"ready\": true,\n",
       "        \"state\": \"Ready\"\n",
       "    },\n",
       "    \"vector_type\": \"dense\",\n",
       "    \"dimension\": 384,\n",
       "    \"deletion_protection\": \"disabled\",\n",
       "    \"tags\": null\n",
       "}"
      ]
     },
     "execution_count": 8,
     "metadata": {},
     "output_type": "execute_result"
    }
   ],
   "source": [
    "from pinecone import ServerlessSpec\n",
    "\n",
    "index_name = \"imdb-movie-index-test\"\n",
    "\n",
    "# Delete existing (optional)\n",
    "if index_name in pc.list_indexes().names():\n",
    "    pc.delete_index(index_name)\n",
    "\n",
    "pc.create_index(\n",
    "    name=index_name,\n",
    "    dimension=384,\n",
    "    metric=\"cosine\",\n",
    "    spec=ServerlessSpec(cloud=\"aws\", region=\"us-east-1\")\n",
    ")\n"
   ]
  },
  {
   "cell_type": "code",
   "execution_count": 9,
   "metadata": {
    "colab": {
     "base_uri": "https://localhost:8080/"
    },
    "id": "gqo-5XD4kZ7v",
    "outputId": "cdc46b76-aadb-4264-854d-ad96ac6ff096"
   },
   "outputs": [
    {
     "name": "stderr",
     "output_type": "stream",
     "text": [
      "/tmp/ipython-input-9-2975613443.py:9: DtypeWarning: Columns (7) have mixed types. Specify dtype option on import or set low_memory=False.\n",
      "  df = pd.read_csv(url, sep=\"\\t\", na_values=\"\\\\N\", compression=\"gzip\", names=columns, header=0)\n"
     ]
    }
   ],
   "source": [
    "import pandas as pd\n",
    "\n",
    "columns = [\n",
    "    \"tconst\", \"titleType\", \"primaryTitle\", \"originalTitle\", \"isAdult\",\n",
    "    \"startYear\", \"endYear\", \"runtimeMinutes\", \"genres\"\n",
    "]\n",
    "\n",
    "url = \"https://datasets.imdbws.com/title.basics.tsv.gz\"\n",
    "df = pd.read_csv(url, sep=\"\\t\", na_values=\"\\\\N\", compression=\"gzip\", names=columns, header=0)\n",
    "df = df[df[\"titleType\"] == \"movie\"].dropna(subset=[\"startYear\", \"genres\"])\n",
    "df = df[df[\"startYear\"].astype(int).between(2000, 2020)]\n",
    "df = df[[\"tconst\", \"primaryTitle\", \"startYear\", \"genres\"]].head(100)\n",
    "df[\"genre\"] = df[\"genres\"].apply(lambda x: x.split(\",\")[0].lower())\n",
    "df = df.rename(columns={\"tconst\": \"id\", \"primaryTitle\": \"title\", \"startYear\": \"year\"})\n",
    "df = df[[\"id\", \"title\", \"year\", \"genre\"]]\n"
   ]
  },
  {
   "cell_type": "code",
   "execution_count": 11,
   "metadata": {
    "id": "riBirKJbkcBA"
   },
   "outputs": [],
   "source": [
    "from tqdm.notebook import tqdm\n",
    "\n",
    "df[\"plot\"] = df[\"title\"] + \" (simulated description)\"\n",
    "df[\"embedding\"] = df[\"plot\"].apply(lambda x: model.encode(x, normalize_embeddings=True).tolist())\n",
    "\n",
    "index = pc.Index(index_name)\n",
    "\n",
    "# Insert grouped by genre\n",
    "for genre, group in df.groupby(\"genre\"):\n",
    "    vectors = [\n",
    "        (row[\"id\"], row[\"embedding\"], {\n",
    "            \"title\": row[\"title\"],\n",
    "            \"year\": str(row[\"year\"]),\n",
    "            \"genre\": row[\"genre\"]\n",
    "        })\n",
    "        for _, row in group.iterrows()\n",
    "    ]\n",
    "    index.upsert(vectors=vectors, namespace=genre)\n"
   ]
  },
  {
   "cell_type": "code",
   "execution_count": 12,
   "metadata": {
    "id": "jdyjQFa6kdzp"
   },
   "outputs": [],
   "source": [
    "def semantic_search(query, namespace, top_k=3):\n",
    "    query_vector = model.encode(query, normalize_embeddings=True).tolist()\n",
    "    results = index.query(vector=query_vector, top_k=top_k, include_metadata=True, namespace=namespace)\n",
    "\n",
    "    if results and results.matches:\n",
    "        for i, match in enumerate(results.matches, 1):\n",
    "            metadata = match.metadata\n",
    "            print(f\"🔹 {i}. {metadata.get('title')} ({metadata.get('year')}) | Score: {match.score:.2f}\")\n",
    "    else:\n",
    "        print(\"❌ No matches found.\")\n"
   ]
  },
  {
   "cell_type": "code",
   "execution_count": 13,
   "metadata": {
    "colab": {
     "base_uri": "https://localhost:8080/"
    },
    "id": "Hx2cWTFSkfSP",
    "outputId": "d64f3fd5-4f06-421a-ed3c-99e4622a18f8"
   },
   "outputs": [
    {
     "name": "stdout",
     "output_type": "stream",
     "text": [
      "🔹 1. Dune 7 (2002.0) | Score: 0.33\n",
      "🔹 2. Shrek (2001.0) | Score: 0.29\n",
      "🔹 3. The Lord of the Rings: The Fellowship of the Ring (2001.0) | Score: 0.28\n"
     ]
    }
   ],
   "source": [
    "semantic_search(\"show me movies similar to space odyssey but made after 2010\", namespace=\"adventure\")\n"
   ]
  }
 ],
 "metadata": {
  "colab": {
   "provenance": []
  },
  "kernelspec": {
   "display_name": "Python 3",
   "name": "python3"
  },
  "language_info": {
   "name": "python"
  }
 },
 "nbformat": 4,
 "nbformat_minor": 0
}
