{
  "nbformat": 4,
  "nbformat_minor": 0,
  "metadata": {
    "colab": {
      "provenance": [],
      "authorship_tag": "ABX9TyM+vWUXnTwOwashaWQcpW+8",
      "include_colab_link": true
    },
    "kernelspec": {
      "name": "python3",
      "display_name": "Python 3"
    },
    "language_info": {
      "name": "python"
    }
  },
  "cells": [
    {
      "cell_type": "markdown",
      "metadata": {
        "id": "view-in-github",
        "colab_type": "text"
      },
      "source": [
        "<a href=\"https://colab.research.google.com/github/harsha-9977/AIML/blob/main/web_app.ipynb\" target=\"_parent\"><img src=\"https://colab.research.google.com/assets/colab-badge.svg\" alt=\"Open In Colab\"/></a>"
      ]
    },
    {
      "cell_type": "code",
      "execution_count": 1,
      "metadata": {
        "colab": {
          "base_uri": "https://localhost:8080/"
        },
        "id": "SbApceYxGYvj",
        "outputId": "dc54e7a6-2ace-4f8d-c1b8-d7b5b634f9eb"
      },
      "outputs": [
        {
          "output_type": "stream",
          "name": "stdout",
          "text": [
            "\u001b[?25l   \u001b[90m━━━━━━━━━━━━━━━━━━━━━━━━━━━━━━━━━━━━━━━━\u001b[0m \u001b[32m0.0/45.2 kB\u001b[0m \u001b[31m?\u001b[0m eta \u001b[36m-:--:--\u001b[0m\r\u001b[2K   \u001b[90m━━━━━━━━━━━━━━━━━━━━━━━━━━━━━━━━━━━━━━━━\u001b[0m \u001b[32m45.2/45.2 kB\u001b[0m \u001b[31m3.9 MB/s\u001b[0m eta \u001b[36m0:00:00\u001b[0m\n",
            "\u001b[?25h\u001b[?25l   \u001b[90m━━━━━━━━━━━━━━━━━━━━━━━━━━━━━━━━━━━━━━━━\u001b[0m \u001b[32m0.0/53.6 kB\u001b[0m \u001b[31m?\u001b[0m eta \u001b[36m-:--:--\u001b[0m\r\u001b[2K   \u001b[90m━━━━━━━━━━━━━━━━━━━━━━━━━━━━━━━━━━━━━━━━\u001b[0m \u001b[32m53.6/53.6 kB\u001b[0m \u001b[31m4.0 MB/s\u001b[0m eta \u001b[36m0:00:00\u001b[0m\n",
            "\u001b[?25h\u001b[?25l   \u001b[90m━━━━━━━━━━━━━━━━━━━━━━━━━━━━━━━━━━━━━━━━\u001b[0m \u001b[32m0.0/313.6 kB\u001b[0m \u001b[31m?\u001b[0m eta \u001b[36m-:--:--\u001b[0m\r\u001b[2K   \u001b[91m━━━━━━━━━━━━━━━━━━━━━━━━━━━━━━━━━━━━━━━\u001b[0m\u001b[90m╺\u001b[0m \u001b[32m307.2/313.6 kB\u001b[0m \u001b[31m13.6 MB/s\u001b[0m eta \u001b[36m0:00:01\u001b[0m\r\u001b[2K   \u001b[90m━━━━━━━━━━━━━━━━━━━━━━━━━━━━━━━━━━━━━━━━\u001b[0m \u001b[32m313.6/313.6 kB\u001b[0m \u001b[31m8.5 MB/s\u001b[0m eta \u001b[36m0:00:00\u001b[0m\n",
            "\u001b[2K   \u001b[90m━━━━━━━━━━━━━━━━━━━━━━━━━━━━━━━━━━━━━━━━\u001b[0m \u001b[32m459.8/459.8 kB\u001b[0m \u001b[31m22.7 MB/s\u001b[0m eta \u001b[36m0:00:00\u001b[0m\n",
            "\u001b[2K   \u001b[90m━━━━━━━━━━━━━━━━━━━━━━━━━━━━━━━━━━━━━━━━\u001b[0m \u001b[32m4.0/4.0 MB\u001b[0m \u001b[31m55.6 MB/s\u001b[0m eta \u001b[36m0:00:00\u001b[0m\n",
            "\u001b[2K   \u001b[90m━━━━━━━━━━━━━━━━━━━━━━━━━━━━━━━━━━━━━━━━\u001b[0m \u001b[32m453.1/453.1 kB\u001b[0m \u001b[31m24.4 MB/s\u001b[0m eta \u001b[36m0:00:00\u001b[0m\n",
            "\u001b[?25h"
          ]
        }
      ],
      "source": [
        "!pip install fastapi[all] jinja2 geopy folium pyngrok uvicorn --quiet\n"
      ]
    },
    {
      "cell_type": "code",
      "source": [
        "import os\n",
        "os.makedirs(\"templates\", exist_ok=True)\n"
      ],
      "metadata": {
        "id": "XKlZGhl3HFXq"
      },
      "execution_count": 2,
      "outputs": []
    },
    {
      "cell_type": "code",
      "source": [
        "%%writefile map_api.py\n",
        "from fastapi import FastAPI, Request, Form\n",
        "from fastapi.responses import HTMLResponse\n",
        "from fastapi.staticfiles import StaticFiles\n",
        "from fastapi.templating import Jinja2Templates\n",
        "from geopy.geocoders import Nominatim\n",
        "import folium\n",
        "import os\n",
        "\n",
        "# App setup\n",
        "app = FastAPI()\n",
        "templates = Jinja2Templates(directory=\"templates\")\n",
        "\n",
        "# Create templates folder\n",
        "os.makedirs(\"templates\", exist_ok=True)\n",
        "\n",
        "@app.get(\"/\", response_class=HTMLResponse)\n",
        "def form_get(request: Request):\n",
        "    return templates.TemplateResponse(\"form.html\", {\"request\": request})\n",
        "\n",
        "@app.post(\"/\", response_class=HTMLResponse)\n",
        "def form_post(request: Request, city: str = Form(...)):\n",
        "    geolocator = Nominatim(user_agent=\"map_app\")\n",
        "    location = geolocator.geocode(city)\n",
        "\n",
        "    if not location:\n",
        "        return templates.TemplateResponse(\"form.html\", {\"request\": request, \"error\": \"City not found\"})\n",
        "\n",
        "    lat, lon = location.latitude, location.longitude\n",
        "\n",
        "    # Create Folium map\n",
        "    m = folium.Map(location=[lat, lon], zoom_start=11)\n",
        "    folium.Circle(\n",
        "        location=[lat, lon],\n",
        "        radius=25000,\n",
        "        color=\"blue\",\n",
        "        fill=True,\n",
        "        fill_opacity=0.3,\n",
        "    ).add_to(m)\n",
        "\n",
        "    map_path = \"templates/map.html\"\n",
        "    m.save(map_path)\n",
        "\n",
        "    return templates.TemplateResponse(\"map.html\", {\"request\": request, \"city\": city})\n"
      ],
      "metadata": {
        "colab": {
          "base_uri": "https://localhost:8080/"
        },
        "id": "SiS36-lcGzwM",
        "outputId": "8b922c5a-174b-42ab-a7e8-0917ed3f01e9"
      },
      "execution_count": 3,
      "outputs": [
        {
          "output_type": "stream",
          "name": "stdout",
          "text": [
            "Overwriting map_api.py\n"
          ]
        }
      ]
    },
    {
      "cell_type": "code",
      "source": [
        "%%writefile templates/form.html\n",
        "<!DOCTYPE html>\n",
        "<html>\n",
        "<head><title>City Map App</title></head>\n",
        "<body>\n",
        "  <h2>Enter City to View Map (50km x 50km)</h2>\n",
        "  <form method=\"post\">\n",
        "    <input type=\"text\" name=\"city\" placeholder=\"e.g. Paris\" required>\n",
        "    <button type=\"submit\">Show Map</button>\n",
        "  </form>\n",
        "  {% if error %}\n",
        "    <p style=\"color:red;\">{{ error }}</p>\n",
        "  {% endif %}\n",
        "</body>\n",
        "</html>\n"
      ],
      "metadata": {
        "colab": {
          "base_uri": "https://localhost:8080/"
        },
        "id": "F6AI444cG9u7",
        "outputId": "02c5f146-907d-49ef-a081-dc180455cd31"
      },
      "execution_count": 4,
      "outputs": [
        {
          "output_type": "stream",
          "name": "stdout",
          "text": [
            "Overwriting templates/form.html\n"
          ]
        }
      ]
    },
    {
      "cell_type": "code",
      "source": [
        "%%writefile templates/map.html\n",
        "<!DOCTYPE html>\n",
        "<html>\n",
        "<head><title>Map for {{ city }}</title></head>\n",
        "<body>\n",
        "  <h2>Map of {{ city }} (50km x 50km)</h2>\n",
        "  {% include 'map.html' %}\n",
        "</body>\n",
        "</html>\n"
      ],
      "metadata": {
        "colab": {
          "base_uri": "https://localhost:8080/"
        },
        "id": "g-1gOgeyHMLL",
        "outputId": "cb4435b2-bb9c-4810-8480-f8a39586c683"
      },
      "execution_count": 5,
      "outputs": [
        {
          "output_type": "stream",
          "name": "stdout",
          "text": [
            "Overwriting templates/map.html\n"
          ]
        }
      ]
    },
    {
      "cell_type": "code",
      "source": [
        "!ngrok config add-authtoken 2zGQ8JjiFanrPui3ZAAfrPsEa4B_6fSgyfoSXiYTNoh5n41yQ\n"
      ],
      "metadata": {
        "colab": {
          "base_uri": "https://localhost:8080/"
        },
        "id": "LHeX3rTbH2CB",
        "outputId": "c19154c2-4019-4adb-85ee-8694d835378a"
      },
      "execution_count": 6,
      "outputs": [
        {
          "output_type": "stream",
          "name": "stdout",
          "text": [
            "Authtoken saved to configuration file: /root/.config/ngrok/ngrok.yml\n"
          ]
        }
      ]
    },
    {
      "cell_type": "code",
      "source": [
        "from pyngrok import ngrok\n",
        "import threading\n",
        "import time\n",
        "import subprocess\n",
        "\n",
        "# Stop any previous tunnel (just in case)\n",
        "ngrok.kill()\n",
        "\n",
        "# Step 1: Start FastAPI app using uvicorn in the background\n",
        "def run_uvicorn():\n",
        "    subprocess.Popen([\"uvicorn\", \"map_api:app\", \"--host\", \"0.0.0.0\", \"--port\", \"8501\"])\n",
        "\n",
        "# Step 2: Run app thread\n",
        "threading.Thread(target=run_uvicorn).start()\n",
        "\n",
        "# Step 3: Wait for the server to be ready\n",
        "time.sleep(5)  # Give Uvicorn enough time to start\n",
        "\n",
        "# Step 4: Start ngrok tunnel\n",
        "public_url = ngrok.connect(8501)\n",
        "print(f\"🚀 App is live at: {public_url}\")\n"
      ],
      "metadata": {
        "colab": {
          "base_uri": "https://localhost:8080/"
        },
        "id": "gznwcaOPHifq",
        "outputId": "fb9ddf98-2bfa-494c-9379-728e0ceffbb3"
      },
      "execution_count": 7,
      "outputs": [
        {
          "output_type": "stream",
          "name": "stdout",
          "text": [
            "🚀 App is live at: NgrokTunnel: \"https://a23a-35-225-12-115.ngrok-free.app\" -> \"http://localhost:8501\"\n"
          ]
        }
      ]
    },
    {
      "cell_type": "code",
      "source": [
        "%%writefile requirements.txt\n",
        "fastapi\n",
        "uvicorn\n",
        "jinja2\n",
        "geopy\n",
        "folium\n"
      ],
      "metadata": {
        "colab": {
          "base_uri": "https://localhost:8080/"
        },
        "id": "k-8GL-a5I_3f",
        "outputId": "78d53934-86a8-41d4-a594-122bbd4f67c6"
      },
      "execution_count": 10,
      "outputs": [
        {
          "output_type": "stream",
          "name": "stdout",
          "text": [
            "Writing requirements.txt\n"
          ]
        }
      ]
    },
    {
      "cell_type": "code",
      "source": [
        "%%writefile start.sh\n",
        "#!/bin/bash\n",
        "uvicorn map_api:app --host=0.0.0.0 --port=$PORT\n"
      ],
      "metadata": {
        "colab": {
          "base_uri": "https://localhost:8080/"
        },
        "id": "8AcPPTk8JCsH",
        "outputId": "61f9a93d-ebb3-4960-c979-ce23cd824e94"
      },
      "execution_count": 12,
      "outputs": [
        {
          "output_type": "stream",
          "name": "stdout",
          "text": [
            "Writing start.sh\n"
          ]
        }
      ]
    },
    {
      "cell_type": "code",
      "source": [
        "!chmod +x start.sh\n"
      ],
      "metadata": {
        "id": "n7UHcSkcJPK_"
      },
      "execution_count": 14,
      "outputs": []
    },
    {
      "cell_type": "code",
      "source": [
        "!zip -r web-app.zip map_api.py requirements.txt start.sh templates/\n"
      ],
      "metadata": {
        "colab": {
          "base_uri": "https://localhost:8080/"
        },
        "id": "itm79aMhJmEF",
        "outputId": "35cb1f06-aff6-430b-ed92-5156ad17396c"
      },
      "execution_count": 1,
      "outputs": [
        {
          "output_type": "stream",
          "name": "stdout",
          "text": [
            "  adding: map_api.py (deflated 58%)\n",
            "  adding: requirements.txt (stored 0%)\n",
            "  adding: start.sh (deflated 5%)\n",
            "  adding: templates/ (stored 0%)\n",
            "  adding: templates/map.html (deflated 67%)\n",
            "  adding: templates/form.html (deflated 32%)\n"
          ]
        }
      ]
    },
    {
      "cell_type": "code",
      "source": [
        "from google.colab import files\n",
        "files.download(\"web-app.zip\")\n"
      ],
      "metadata": {
        "colab": {
          "base_uri": "https://localhost:8080/",
          "height": 17
        },
        "id": "_Z32OeR8Jpul",
        "outputId": "4df7429b-e0c9-4eaf-f98c-6df09cc74446"
      },
      "execution_count": 2,
      "outputs": [
        {
          "output_type": "display_data",
          "data": {
            "text/plain": [
              "<IPython.core.display.Javascript object>"
            ],
            "application/javascript": [
              "\n",
              "    async function download(id, filename, size) {\n",
              "      if (!google.colab.kernel.accessAllowed) {\n",
              "        return;\n",
              "      }\n",
              "      const div = document.createElement('div');\n",
              "      const label = document.createElement('label');\n",
              "      label.textContent = `Downloading \"${filename}\": `;\n",
              "      div.appendChild(label);\n",
              "      const progress = document.createElement('progress');\n",
              "      progress.max = size;\n",
              "      div.appendChild(progress);\n",
              "      document.body.appendChild(div);\n",
              "\n",
              "      const buffers = [];\n",
              "      let downloaded = 0;\n",
              "\n",
              "      const channel = await google.colab.kernel.comms.open(id);\n",
              "      // Send a message to notify the kernel that we're ready.\n",
              "      channel.send({})\n",
              "\n",
              "      for await (const message of channel.messages) {\n",
              "        // Send a message to notify the kernel that we're ready.\n",
              "        channel.send({})\n",
              "        if (message.buffers) {\n",
              "          for (const buffer of message.buffers) {\n",
              "            buffers.push(buffer);\n",
              "            downloaded += buffer.byteLength;\n",
              "            progress.value = downloaded;\n",
              "          }\n",
              "        }\n",
              "      }\n",
              "      const blob = new Blob(buffers, {type: 'application/binary'});\n",
              "      const a = document.createElement('a');\n",
              "      a.href = window.URL.createObjectURL(blob);\n",
              "      a.download = filename;\n",
              "      div.appendChild(a);\n",
              "      a.click();\n",
              "      div.remove();\n",
              "    }\n",
              "  "
            ]
          },
          "metadata": {}
        },
        {
          "output_type": "display_data",
          "data": {
            "text/plain": [
              "<IPython.core.display.Javascript object>"
            ],
            "application/javascript": [
              "download(\"download_34e6c8d4-b371-4353-b5ee-176360506381\", \"web-app.zip\", 3101)"
            ]
          },
          "metadata": {}
        }
      ]
    }
  ]
}