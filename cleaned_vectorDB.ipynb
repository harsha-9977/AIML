{
 "cells": [
  {
   "cell_type": "code",
   "execution_count": 5,
   "metadata": {
    "colab": {
     "base_uri": "https://localhost:8080/"
    },
    "id": "dHQ74sggnKrY",
    "outputId": "325221ba-bb4f-4314-ac0e-a19a65e58a64"
   },
   "outputs": [
    {
     "name": "stdout",
     "output_type": "stream",
     "text": [
      "Collecting PyMuPDF\n",
      "  Downloading pymupdf-1.26.1-cp39-abi3-manylinux_2_28_x86_64.whl.metadata (3.4 kB)\n",
      "Requirement already satisfied: langchain in /usr/local/lib/python3.11/dist-packages (0.3.26)\n",
      "Requirement already satisfied: sentence-transformers in /usr/local/lib/python3.11/dist-packages (4.1.0)\n",
      "Collecting pinecone-client\n",
      "  Downloading pinecone_client-6.0.0-py3-none-any.whl.metadata (3.4 kB)\n",
      "Requirement already satisfied: langchain-core<1.0.0,>=0.3.66 in /usr/local/lib/python3.11/dist-packages (from langchain) (0.3.66)\n",
      "Requirement already satisfied: langchain-text-splitters<1.0.0,>=0.3.8 in /usr/local/lib/python3.11/dist-packages (from langchain) (0.3.8)\n",
      "Requirement already satisfied: langsmith>=0.1.17 in /usr/local/lib/python3.11/dist-packages (from langchain) (0.4.1)\n",
      "Requirement already satisfied: pydantic<3.0.0,>=2.7.4 in /usr/local/lib/python3.11/dist-packages (from langchain) (2.11.7)\n",
      "Requirement already satisfied: SQLAlchemy<3,>=1.4 in /usr/local/lib/python3.11/dist-packages (from langchain) (2.0.41)\n",
      "Requirement already satisfied: requests<3,>=2 in /usr/local/lib/python3.11/dist-packages (from langchain) (2.32.3)\n",
      "Requirement already satisfied: PyYAML>=5.3 in /usr/local/lib/python3.11/dist-packages (from langchain) (6.0.2)\n",
      "Requirement already satisfied: transformers<5.0.0,>=4.41.0 in /usr/local/lib/python3.11/dist-packages (from sentence-transformers) (4.52.4)\n",
      "Requirement already satisfied: tqdm in /usr/local/lib/python3.11/dist-packages (from sentence-transformers) (4.67.1)\n",
      "Requirement already satisfied: torch>=1.11.0 in /usr/local/lib/python3.11/dist-packages (from sentence-transformers) (2.6.0+cu124)\n",
      "Requirement already satisfied: scikit-learn in /usr/local/lib/python3.11/dist-packages (from sentence-transformers) (1.6.1)\n",
      "Requirement already satisfied: scipy in /usr/local/lib/python3.11/dist-packages (from sentence-transformers) (1.15.3)\n",
      "Requirement already satisfied: huggingface-hub>=0.20.0 in /usr/local/lib/python3.11/dist-packages (from sentence-transformers) (0.33.0)\n",
      "Requirement already satisfied: Pillow in /usr/local/lib/python3.11/dist-packages (from sentence-transformers) (11.2.1)\n",
      "Requirement already satisfied: typing_extensions>=4.5.0 in /usr/local/lib/python3.11/dist-packages (from sentence-transformers) (4.14.0)\n",
      "Requirement already satisfied: certifi>=2019.11.17 in /usr/local/lib/python3.11/dist-packages (from pinecone-client) (2025.6.15)\n",
      "Collecting pinecone-plugin-interface<0.0.8,>=0.0.7 (from pinecone-client)\n",
      "  Downloading pinecone_plugin_interface-0.0.7-py3-none-any.whl.metadata (1.2 kB)\n",
      "Requirement already satisfied: python-dateutil>=2.5.3 in /usr/local/lib/python3.11/dist-packages (from pinecone-client) (2.9.0.post0)\n",
      "Requirement already satisfied: urllib3>=1.26.0 in /usr/local/lib/python3.11/dist-packages (from pinecone-client) (2.4.0)\n",
      "Requirement already satisfied: filelock in /usr/local/lib/python3.11/dist-packages (from huggingface-hub>=0.20.0->sentence-transformers) (3.18.0)\n",
      "Requirement already satisfied: fsspec>=2023.5.0 in /usr/local/lib/python3.11/dist-packages (from huggingface-hub>=0.20.0->sentence-transformers) (2025.3.2)\n",
      "Requirement already satisfied: packaging>=20.9 in /usr/local/lib/python3.11/dist-packages (from huggingface-hub>=0.20.0->sentence-transformers) (24.2)\n",
      "Requirement already satisfied: hf-xet<2.0.0,>=1.1.2 in /usr/local/lib/python3.11/dist-packages (from huggingface-hub>=0.20.0->sentence-transformers) (1.1.5)\n",
      "Requirement already satisfied: tenacity!=8.4.0,<10.0.0,>=8.1.0 in /usr/local/lib/python3.11/dist-packages (from langchain-core<1.0.0,>=0.3.66->langchain) (8.5.0)\n",
      "Requirement already satisfied: jsonpatch<2.0,>=1.33 in /usr/local/lib/python3.11/dist-packages (from langchain-core<1.0.0,>=0.3.66->langchain) (1.33)\n",
      "Requirement already satisfied: httpx<1,>=0.23.0 in /usr/local/lib/python3.11/dist-packages (from langsmith>=0.1.17->langchain) (0.28.1)\n",
      "Requirement already satisfied: orjson<4.0.0,>=3.9.14 in /usr/local/lib/python3.11/dist-packages (from langsmith>=0.1.17->langchain) (3.10.18)\n",
      "Requirement already satisfied: requests-toolbelt<2.0.0,>=1.0.0 in /usr/local/lib/python3.11/dist-packages (from langsmith>=0.1.17->langchain) (1.0.0)\n",
      "Requirement already satisfied: zstandard<0.24.0,>=0.23.0 in /usr/local/lib/python3.11/dist-packages (from langsmith>=0.1.17->langchain) (0.23.0)\n",
      "Requirement already satisfied: annotated-types>=0.6.0 in /usr/local/lib/python3.11/dist-packages (from pydantic<3.0.0,>=2.7.4->langchain) (0.7.0)\n",
      "Requirement already satisfied: pydantic-core==2.33.2 in /usr/local/lib/python3.11/dist-packages (from pydantic<3.0.0,>=2.7.4->langchain) (2.33.2)\n",
      "Requirement already satisfied: typing-inspection>=0.4.0 in /usr/local/lib/python3.11/dist-packages (from pydantic<3.0.0,>=2.7.4->langchain) (0.4.1)\n",
      "Requirement already satisfied: six>=1.5 in /usr/local/lib/python3.11/dist-packages (from python-dateutil>=2.5.3->pinecone-client) (1.17.0)\n",
      "Requirement already satisfied: charset-normalizer<4,>=2 in /usr/local/lib/python3.11/dist-packages (from requests<3,>=2->langchain) (3.4.2)\n",
      "Requirement already satisfied: idna<4,>=2.5 in /usr/local/lib/python3.11/dist-packages (from requests<3,>=2->langchain) (3.10)\n",
      "Requirement already satisfied: greenlet>=1 in /usr/local/lib/python3.11/dist-packages (from SQLAlchemy<3,>=1.4->langchain) (3.2.3)\n",
      "Requirement already satisfied: networkx in /usr/local/lib/python3.11/dist-packages (from torch>=1.11.0->sentence-transformers) (3.5)\n",
      "Requirement already satisfied: jinja2 in /usr/local/lib/python3.11/dist-packages (from torch>=1.11.0->sentence-transformers) (3.1.6)\n",
      "Collecting nvidia-cuda-nvrtc-cu12==12.4.127 (from torch>=1.11.0->sentence-transformers)\n",
      "  Downloading nvidia_cuda_nvrtc_cu12-12.4.127-py3-none-manylinux2014_x86_64.whl.metadata (1.5 kB)\n",
      "Collecting nvidia-cuda-runtime-cu12==12.4.127 (from torch>=1.11.0->sentence-transformers)\n",
      "  Downloading nvidia_cuda_runtime_cu12-12.4.127-py3-none-manylinux2014_x86_64.whl.metadata (1.5 kB)\n",
      "Collecting nvidia-cuda-cupti-cu12==12.4.127 (from torch>=1.11.0->sentence-transformers)\n",
      "  Downloading nvidia_cuda_cupti_cu12-12.4.127-py3-none-manylinux2014_x86_64.whl.metadata (1.6 kB)\n",
      "Collecting nvidia-cudnn-cu12==9.1.0.70 (from torch>=1.11.0->sentence-transformers)\n",
      "  Downloading nvidia_cudnn_cu12-9.1.0.70-py3-none-manylinux2014_x86_64.whl.metadata (1.6 kB)\n",
      "Collecting nvidia-cublas-cu12==12.4.5.8 (from torch>=1.11.0->sentence-transformers)\n",
      "  Downloading nvidia_cublas_cu12-12.4.5.8-py3-none-manylinux2014_x86_64.whl.metadata (1.5 kB)\n",
      "Collecting nvidia-cufft-cu12==11.2.1.3 (from torch>=1.11.0->sentence-transformers)\n",
      "  Downloading nvidia_cufft_cu12-11.2.1.3-py3-none-manylinux2014_x86_64.whl.metadata (1.5 kB)\n",
      "Collecting nvidia-curand-cu12==10.3.5.147 (from torch>=1.11.0->sentence-transformers)\n",
      "  Downloading nvidia_curand_cu12-10.3.5.147-py3-none-manylinux2014_x86_64.whl.metadata (1.5 kB)\n",
      "Collecting nvidia-cusolver-cu12==11.6.1.9 (from torch>=1.11.0->sentence-transformers)\n",
      "  Downloading nvidia_cusolver_cu12-11.6.1.9-py3-none-manylinux2014_x86_64.whl.metadata (1.6 kB)\n",
      "Collecting nvidia-cusparse-cu12==12.3.1.170 (from torch>=1.11.0->sentence-transformers)\n",
      "  Downloading nvidia_cusparse_cu12-12.3.1.170-py3-none-manylinux2014_x86_64.whl.metadata (1.6 kB)\n",
      "Requirement already satisfied: nvidia-cusparselt-cu12==0.6.2 in /usr/local/lib/python3.11/dist-packages (from torch>=1.11.0->sentence-transformers) (0.6.2)\n",
      "Requirement already satisfied: nvidia-nccl-cu12==2.21.5 in /usr/local/lib/python3.11/dist-packages (from torch>=1.11.0->sentence-transformers) (2.21.5)\n",
      "Requirement already satisfied: nvidia-nvtx-cu12==12.4.127 in /usr/local/lib/python3.11/dist-packages (from torch>=1.11.0->sentence-transformers) (12.4.127)\n",
      "Collecting nvidia-nvjitlink-cu12==12.4.127 (from torch>=1.11.0->sentence-transformers)\n",
      "  Downloading nvidia_nvjitlink_cu12-12.4.127-py3-none-manylinux2014_x86_64.whl.metadata (1.5 kB)\n",
      "Requirement already satisfied: triton==3.2.0 in /usr/local/lib/python3.11/dist-packages (from torch>=1.11.0->sentence-transformers) (3.2.0)\n",
      "Requirement already satisfied: sympy==1.13.1 in /usr/local/lib/python3.11/dist-packages (from torch>=1.11.0->sentence-transformers) (1.13.1)\n",
      "Requirement already satisfied: mpmath<1.4,>=1.1.0 in /usr/local/lib/python3.11/dist-packages (from sympy==1.13.1->torch>=1.11.0->sentence-transformers) (1.3.0)\n",
      "Requirement already satisfied: numpy>=1.17 in /usr/local/lib/python3.11/dist-packages (from transformers<5.0.0,>=4.41.0->sentence-transformers) (2.0.2)\n",
      "Requirement already satisfied: regex!=2019.12.17 in /usr/local/lib/python3.11/dist-packages (from transformers<5.0.0,>=4.41.0->sentence-transformers) (2024.11.6)\n",
      "Requirement already satisfied: tokenizers<0.22,>=0.21 in /usr/local/lib/python3.11/dist-packages (from transformers<5.0.0,>=4.41.0->sentence-transformers) (0.21.2)\n",
      "Requirement already satisfied: safetensors>=0.4.3 in /usr/local/lib/python3.11/dist-packages (from transformers<5.0.0,>=4.41.0->sentence-transformers) (0.5.3)\n",
      "Requirement already satisfied: joblib>=1.2.0 in /usr/local/lib/python3.11/dist-packages (from scikit-learn->sentence-transformers) (1.5.1)\n",
      "Requirement already satisfied: threadpoolctl>=3.1.0 in /usr/local/lib/python3.11/dist-packages (from scikit-learn->sentence-transformers) (3.6.0)\n",
      "Requirement already satisfied: anyio in /usr/local/lib/python3.11/dist-packages (from httpx<1,>=0.23.0->langsmith>=0.1.17->langchain) (4.9.0)\n",
      "Requirement already satisfied: httpcore==1.* in /usr/local/lib/python3.11/dist-packages (from httpx<1,>=0.23.0->langsmith>=0.1.17->langchain) (1.0.9)\n",
      "Requirement already satisfied: h11>=0.16 in /usr/local/lib/python3.11/dist-packages (from httpcore==1.*->httpx<1,>=0.23.0->langsmith>=0.1.17->langchain) (0.16.0)\n",
      "Requirement already satisfied: jsonpointer>=1.9 in /usr/local/lib/python3.11/dist-packages (from jsonpatch<2.0,>=1.33->langchain-core<1.0.0,>=0.3.66->langchain) (3.0.0)\n",
      "Requirement already satisfied: MarkupSafe>=2.0 in /usr/local/lib/python3.11/dist-packages (from jinja2->torch>=1.11.0->sentence-transformers) (3.0.2)\n",
      "Requirement already satisfied: sniffio>=1.1 in /usr/local/lib/python3.11/dist-packages (from anyio->httpx<1,>=0.23.0->langsmith>=0.1.17->langchain) (1.3.1)\n",
      "Downloading pymupdf-1.26.1-cp39-abi3-manylinux_2_28_x86_64.whl (24.1 MB)\n",
      "\u001b[2K   \u001b[90m━━━━━━━━━━━━━━━━━━━━━━━━━━━━━━━━━━━━━━━━\u001b[0m \u001b[32m24.1/24.1 MB\u001b[0m \u001b[31m66.1 MB/s\u001b[0m eta \u001b[36m0:00:00\u001b[0m\n",
      "\u001b[?25hDownloading pinecone_client-6.0.0-py3-none-any.whl (6.7 kB)\n",
      "Downloading pinecone_plugin_interface-0.0.7-py3-none-any.whl (6.2 kB)\n",
      "Downloading nvidia_cublas_cu12-12.4.5.8-py3-none-manylinux2014_x86_64.whl (363.4 MB)\n",
      "\u001b[2K   \u001b[90m━━━━━━━━━━━━━━━━━━━━━━━━━━━━━━━━━━━━━━━━\u001b[0m \u001b[32m363.4/363.4 MB\u001b[0m \u001b[31m4.5 MB/s\u001b[0m eta \u001b[36m0:00:00\u001b[0m\n",
      "\u001b[?25hDownloading nvidia_cuda_cupti_cu12-12.4.127-py3-none-manylinux2014_x86_64.whl (13.8 MB)\n",
      "\u001b[2K   \u001b[90m━━━━━━━━━━━━━━━━━━━━━━━━━━━━━━━━━━━━━━━━\u001b[0m \u001b[32m13.8/13.8 MB\u001b[0m \u001b[31m102.6 MB/s\u001b[0m eta \u001b[36m0:00:00\u001b[0m\n",
      "\u001b[?25hDownloading nvidia_cuda_nvrtc_cu12-12.4.127-py3-none-manylinux2014_x86_64.whl (24.6 MB)\n",
      "\u001b[2K   \u001b[90m━━━━━━━━━━━━━━━━━━━━━━━━━━━━━━━━━━━━━━━━\u001b[0m \u001b[32m24.6/24.6 MB\u001b[0m \u001b[31m88.1 MB/s\u001b[0m eta \u001b[36m0:00:00\u001b[0m\n",
      "\u001b[?25hDownloading nvidia_cuda_runtime_cu12-12.4.127-py3-none-manylinux2014_x86_64.whl (883 kB)\n",
      "\u001b[2K   \u001b[90m━━━━━━━━━━━━━━━━━━━━━━━━━━━━━━━━━━━━━━━━\u001b[0m \u001b[32m883.7/883.7 kB\u001b[0m \u001b[31m49.7 MB/s\u001b[0m eta \u001b[36m0:00:00\u001b[0m\n",
      "\u001b[?25hDownloading nvidia_cudnn_cu12-9.1.0.70-py3-none-manylinux2014_x86_64.whl (664.8 MB)\n",
      "\u001b[2K   \u001b[90m━━━━━━━━━━━━━━━━━━━━━━━━━━━━━━━━━━━━━━━━\u001b[0m \u001b[32m664.8/664.8 MB\u001b[0m \u001b[31m2.7 MB/s\u001b[0m eta \u001b[36m0:00:00\u001b[0m\n",
      "\u001b[?25hDownloading nvidia_cufft_cu12-11.2.1.3-py3-none-manylinux2014_x86_64.whl (211.5 MB)\n",
      "\u001b[2K   \u001b[90m━━━━━━━━━━━━━━━━━━━━━━━━━━━━━━━━━━━━━━━━\u001b[0m \u001b[32m211.5/211.5 MB\u001b[0m \u001b[31m4.2 MB/s\u001b[0m eta \u001b[36m0:00:00\u001b[0m\n",
      "\u001b[?25hDownloading nvidia_curand_cu12-10.3.5.147-py3-none-manylinux2014_x86_64.whl (56.3 MB)\n",
      "\u001b[2K   \u001b[90m━━━━━━━━━━━━━━━━━━━━━━━━━━━━━━━━━━━━━━━━\u001b[0m \u001b[32m56.3/56.3 MB\u001b[0m \u001b[31m12.3 MB/s\u001b[0m eta \u001b[36m0:00:00\u001b[0m\n",
      "\u001b[?25hDownloading nvidia_cusolver_cu12-11.6.1.9-py3-none-manylinux2014_x86_64.whl (127.9 MB)\n",
      "\u001b[2K   \u001b[90m━━━━━━━━━━━━━━━━━━━━━━━━━━━━━━━━━━━━━━━━\u001b[0m \u001b[32m127.9/127.9 MB\u001b[0m \u001b[31m6.2 MB/s\u001b[0m eta \u001b[36m0:00:00\u001b[0m\n",
      "\u001b[?25hDownloading nvidia_cusparse_cu12-12.3.1.170-py3-none-manylinux2014_x86_64.whl (207.5 MB)\n",
      "\u001b[2K   \u001b[90m━━━━━━━━━━━━━━━━━━━━━━━━━━━━━━━━━━━━━━━━\u001b[0m \u001b[32m207.5/207.5 MB\u001b[0m \u001b[31m5.0 MB/s\u001b[0m eta \u001b[36m0:00:00\u001b[0m\n",
      "\u001b[?25hDownloading nvidia_nvjitlink_cu12-12.4.127-py3-none-manylinux2014_x86_64.whl (21.1 MB)\n",
      "\u001b[2K   \u001b[90m━━━━━━━━━━━━━━━━━━━━━━━━━━━━━━━━━━━━━━━━\u001b[0m \u001b[32m21.1/21.1 MB\u001b[0m \u001b[31m55.8 MB/s\u001b[0m eta \u001b[36m0:00:00\u001b[0m\n",
      "\u001b[?25hInstalling collected packages: PyMuPDF, pinecone-plugin-interface, nvidia-nvjitlink-cu12, nvidia-curand-cu12, nvidia-cufft-cu12, nvidia-cuda-runtime-cu12, nvidia-cuda-nvrtc-cu12, nvidia-cuda-cupti-cu12, nvidia-cublas-cu12, pinecone-client, nvidia-cusparse-cu12, nvidia-cudnn-cu12, nvidia-cusolver-cu12\n",
      "  Attempting uninstall: nvidia-nvjitlink-cu12\n",
      "    Found existing installation: nvidia-nvjitlink-cu12 12.5.82\n",
      "    Uninstalling nvidia-nvjitlink-cu12-12.5.82:\n",
      "      Successfully uninstalled nvidia-nvjitlink-cu12-12.5.82\n",
      "  Attempting uninstall: nvidia-curand-cu12\n",
      "    Found existing installation: nvidia-curand-cu12 10.3.6.82\n",
      "    Uninstalling nvidia-curand-cu12-10.3.6.82:\n",
      "      Successfully uninstalled nvidia-curand-cu12-10.3.6.82\n",
      "  Attempting uninstall: nvidia-cufft-cu12\n",
      "    Found existing installation: nvidia-cufft-cu12 11.2.3.61\n",
      "    Uninstalling nvidia-cufft-cu12-11.2.3.61:\n",
      "      Successfully uninstalled nvidia-cufft-cu12-11.2.3.61\n",
      "  Attempting uninstall: nvidia-cuda-runtime-cu12\n",
      "    Found existing installation: nvidia-cuda-runtime-cu12 12.5.82\n",
      "    Uninstalling nvidia-cuda-runtime-cu12-12.5.82:\n",
      "      Successfully uninstalled nvidia-cuda-runtime-cu12-12.5.82\n",
      "  Attempting uninstall: nvidia-cuda-nvrtc-cu12\n",
      "    Found existing installation: nvidia-cuda-nvrtc-cu12 12.5.82\n",
      "    Uninstalling nvidia-cuda-nvrtc-cu12-12.5.82:\n",
      "      Successfully uninstalled nvidia-cuda-nvrtc-cu12-12.5.82\n",
      "  Attempting uninstall: nvidia-cuda-cupti-cu12\n",
      "    Found existing installation: nvidia-cuda-cupti-cu12 12.5.82\n",
      "    Uninstalling nvidia-cuda-cupti-cu12-12.5.82:\n",
      "      Successfully uninstalled nvidia-cuda-cupti-cu12-12.5.82\n",
      "  Attempting uninstall: nvidia-cublas-cu12\n",
      "    Found existing installation: nvidia-cublas-cu12 12.5.3.2\n",
      "    Uninstalling nvidia-cublas-cu12-12.5.3.2:\n",
      "      Successfully uninstalled nvidia-cublas-cu12-12.5.3.2\n",
      "  Attempting uninstall: nvidia-cusparse-cu12\n",
      "    Found existing installation: nvidia-cusparse-cu12 12.5.1.3\n",
      "    Uninstalling nvidia-cusparse-cu12-12.5.1.3:\n",
      "      Successfully uninstalled nvidia-cusparse-cu12-12.5.1.3\n",
      "  Attempting uninstall: nvidia-cudnn-cu12\n",
      "    Found existing installation: nvidia-cudnn-cu12 9.3.0.75\n",
      "    Uninstalling nvidia-cudnn-cu12-9.3.0.75:\n",
      "      Successfully uninstalled nvidia-cudnn-cu12-9.3.0.75\n",
      "  Attempting uninstall: nvidia-cusolver-cu12\n",
      "    Found existing installation: nvidia-cusolver-cu12 11.6.3.83\n",
      "    Uninstalling nvidia-cusolver-cu12-11.6.3.83:\n",
      "      Successfully uninstalled nvidia-cusolver-cu12-11.6.3.83\n",
      "Successfully installed PyMuPDF-1.26.1 nvidia-cublas-cu12-12.4.5.8 nvidia-cuda-cupti-cu12-12.4.127 nvidia-cuda-nvrtc-cu12-12.4.127 nvidia-cuda-runtime-cu12-12.4.127 nvidia-cudnn-cu12-9.1.0.70 nvidia-cufft-cu12-11.2.1.3 nvidia-curand-cu12-10.3.5.147 nvidia-cusolver-cu12-11.6.1.9 nvidia-cusparse-cu12-12.3.1.170 nvidia-nvjitlink-cu12-12.4.127 pinecone-client-6.0.0 pinecone-plugin-interface-0.0.7\n"
     ]
    }
   ],
   "source": [
    "pip install PyMuPDF langchain sentence-transformers pinecone-client\n"
   ]
  },
  {
   "cell_type": "code",
   "execution_count": 6,
   "metadata": {
    "colab": {
     "base_uri": "https://localhost:8080/"
    },
    "id": "b3bJjCPcnN0A",
    "outputId": "251f3259-5bcf-407f-ed8d-6514a99439e8"
   },
   "outputs": [
    {
     "name": "stdout",
     "output_type": "stream",
     "text": [
      "✅ PDF downloaded as mimic_iv_descriptor.pdf\n"
     ]
    }
   ],
   "source": [
    "import requests\n",
    "\n",
    "url = \"https://www.nature.com/articles/s41597-022-01899-x.pdf?proof=t\"  # PDF link from Nature page\n",
    "r = requests.get(url, stream=True)\n",
    "if r.status_code == 200:\n",
    "    with open(\"mimic_iv_descriptor.pdf\", \"wb\") as f:\n",
    "        for chunk in r.iter_content(1024):\n",
    "            f.write(chunk)\n",
    "    print(\"✅ PDF downloaded as mimic_iv_descriptor.pdf\")\n",
    "else:\n",
    "    print(\"❌ Failed to download PDF:\", r.status_code)\n"
   ]
  },
  {
   "cell_type": "code",
   "execution_count": 7,
   "metadata": {
    "colab": {
     "base_uri": "https://localhost:8080/"
    },
    "id": "vYIt03_goAso",
    "outputId": "9ad558bf-be2f-476b-8cd2-c43366231a69"
   },
   "outputs": [
    {
     "name": "stdout",
     "output_type": "stream",
     "text": [
      "Requirement already satisfied: pymupdf in /usr/local/lib/python3.11/dist-packages (1.26.1)\n"
     ]
    }
   ],
   "source": [
    "pip install pymupdf\n"
   ]
  },
  {
   "cell_type": "code",
   "execution_count": 8,
   "metadata": {
    "colab": {
     "base_uri": "https://localhost:8080/"
    },
    "id": "sFv_HVqooC9I",
    "outputId": "8293808a-2480-41b9-ffb3-5540e6b59cfc"
   },
   "outputs": [
    {
     "name": "stdout",
     "output_type": "stream",
     "text": [
      "✅ Text extracted from PDF. First 500 characters:\n",
      "\n",
      "1\n",
      "Scientific Data | (2023) 10:1 | https://doi.org/10.1038/s41597-022-01899-x\n",
      "www.nature.com/scientificdata\n",
      "MIMIC-IV, a freely accessible \n",
      "electronic health record dataset\n",
      "Alistair E. W. Johnson1,2 ✉, Lucas Bulgarelli   1, Lu Shen3, Alvin Gayles3, Ayad Shammout3, \n",
      "Steven Horng   3, Tom J. Pollard   1, Sicheng Hao1, Benjamin Moody1, Brian Gow   1,  \n",
      "Li-wei H. Lehman1, Leo A. Celi   1,3 & Roger G. Mark   1\n",
      "Digital data collection during routine clinical practice is now ubiquitous within hospitals. \n"
     ]
    }
   ],
   "source": [
    "import fitz  # PyMuPDF\n",
    "\n",
    "def extract_text_from_pdf(pdf_path):\n",
    "    doc = fitz.open(pdf_path)\n",
    "    all_text = \"\"\n",
    "    for page in doc:\n",
    "        all_text += page.get_text()\n",
    "    return all_text\n",
    "\n",
    "# Extract and save\n",
    "pdf_path = \"mimic_iv_descriptor.pdf\"\n",
    "raw_text = extract_text_from_pdf(pdf_path)\n",
    "\n",
    "# Save to text file (optional)\n",
    "with open(\"mimic_iv_descriptor.txt\", \"w\", encoding=\"utf-8\") as f:\n",
    "    f.write(raw_text)\n",
    "\n",
    "print(\"✅ Text extracted from PDF. First 500 characters:\\n\")\n",
    "print(raw_text[:500])\n"
   ]
  },
  {
   "cell_type": "code",
   "execution_count": 9,
   "metadata": {
    "colab": {
     "base_uri": "https://localhost:8080/"
    },
    "id": "cbpVuQwYoIRo",
    "outputId": "b31e76d3-953d-4f58-a105-e7e0be662d2d"
   },
   "outputs": [
    {
     "name": "stdout",
     "output_type": "stream",
     "text": [
      "✅ Created 114 text chunks.\n",
      "\n",
      "🔹 First chunk preview:\n",
      "\n",
      "1\n",
      "Scientific Data | (2023) 10:1 | https://doi.org/10.1038/s41597-022-01899-x\n",
      "www.nature.com/scientificdata\n",
      "MIMIC-IV, a freely accessible \n",
      "electronic health record dataset\n",
      "Alistair E. W. Johnson1,2 ✉, Lucas Bulgarelli   1, Lu Shen3, Alvin Gayles3, Ayad Shammout3, \n",
      "Steven Horng   3, Tom J. Pollard   1, Sicheng Hao1, Benjamin Moody1, Brian Gow   1,  \n",
      "Li-wei H. Lehman1, Leo A. Celi   1,3 & Roger G. Mark   1\n",
      "Digital data collection during routine clinical practice is now ubiquitous within hospitals. \n"
     ]
    }
   ],
   "source": [
    "from typing import List\n",
    "\n",
    "def chunk_text(text: str, chunk_size: int = 500, overlap: int = 100) -> List[str]:\n",
    "    chunks = []\n",
    "    start = 0\n",
    "    text_length = len(text)\n",
    "    while start < text_length:\n",
    "        end = min(start + chunk_size, text_length)\n",
    "        chunks.append(text[start:end])\n",
    "        start += chunk_size - overlap  # move forward with overlap\n",
    "    return chunks\n",
    "\n",
    "# Create chunks\n",
    "chunks = chunk_text(raw_text)\n",
    "print(f\"✅ Created {len(chunks)} text chunks.\")\n",
    "print(\"\\n🔹 First chunk preview:\\n\")\n",
    "print(chunks[0])\n"
   ]
  },
  {
   "cell_type": "code",
   "execution_count": 10,
   "metadata": {
    "colab": {
     "base_uri": "https://localhost:8080/",
     "height": 548,
     "referenced_widgets": [
      "5f2774be577341299efc8c08201dec7a",
      "cbfc21f148a84d5e84954512eb661d2a",
      "b3ec538b3315437498ffe8efd7fe96bd",
      "e905f50a768c41f7a14166bdca6c4eda",
      "9e31fb03ca364f2b90ae247a69ed9323",
      "eae9e4466f07497ba7c067426a74ee77",
      "8272dd2e61ed48d790778d84514a062d",
      "1691e48d681e4ddbada85ca35e557b5d",
      "263c1ee8056b45fa944ed5bf7ee9abb5",
      "4a9be8fd5cb349fea183472bcfd77370",
      "a0503a3402284f0faab88f7966ee56c5",
      "b5fdea9502fe4089a35a177c112bf7d2",
      "4dea633939194e6b9d2afebeb34b0017",
      "532f63a4289c427a868699e4aaf12c8e",
      "d47d1521a83b4de18d1faad99f9dfd25",
      "f749168935ae4e1ba82c84ac8948e9c7",
      "a77bd008c7654e56937a7187d5462e45",
      "d78c28413b8d4aea84b7759df695509a",
      "b7d5ea743a8d4f08896e1944edd75eca",
      "3819954bec6441b3bdf729c8e0dac690",
      "42c0c4e9a0fa461daa6f9515fce7133d",
      "f5353a4a3f274af78fa575de7ce268d6",
      "613845e1f39a4ecaab0552e6e7cca415",
      "dc92602c2704419ebec2386570a22f9b",
      "edbc5d39626247e8ae20338ad968eb2a",
      "0834f8e7988e48da8585b8c5c73da185",
      "87eb514668904ebf9f277dfd4769feb6",
      "a1d28eece6c242ccae19dda76bdbbd9a",
      "dfc290db4bae42f79ba6bb8f9d48c9c3",
      "28196090b40743e980a5e956591a397e",
      "a508024b7f8741bf8a97efc2ea7e7048",
      "353c2dbb5b474858a43b44285019b80f",
      "a67cf902a94d44e48161b0309b6701e3",
      "ef529316017a43e7b7f05681f47aec01",
      "fe71862f34b248bdb8d5b6f6e643e7e2",
      "5911385e48aa4538bdb78289274b2bfc",
      "b92a8e60baf4450c85de2f7454f66fe7",
      "3904664f74544f02993b835b46e257f2",
      "378f85e854e945c4b96b634f047fb3b5",
      "efb96324a4804af9b6453c8baab8ec33",
      "2fd629b294a347a88a868c739902daa1",
      "890f688d4b70451aae2c7309e16eab31",
      "1d174e3e5f8c46759c9683d26bb0d700",
      "da4856352c704922a3c9bf66646704cf",
      "6ef48ee4abcc4cd6ac4f1e48c4405a0e",
      "8e65b716aca94d02ae1b9ff59cdb8a28",
      "811832862c2146f9996764a324b8b1d4",
      "58eb2a42cca84c7ab7050e6f43a92753",
      "86021237caca45b29d3d5aed256ea2de",
      "4b6a6772ba0e436bb209cf3bcbe5bc11",
      "03bb86eb10894679af8b0d7308b64a70",
      "299c0bfadf154ae9885b75d4d6bf54c1",
      "6105fa86e5944d0185e7610109f3edad",
      "0146438a03934838829feae89e4e946b",
      "192468b5bbc0421587b9909c1110b46c",
      "8d68e1d55a9446b6b8294a144e564e68",
      "734b055f12e34e9e8128519e2f633137",
      "9d39cc29cfdd4d11a09e0d81978b9028",
      "e00ede1bda1343aca234e97ce3008450",
      "9d61aa4f882e4a7185b13e3b1a66f510",
      "19266d46b9bf4ff7a109215add72185f",
      "489965d15e5b4622a1e3ed2551f91ea5",
      "a3de476711304215a0fff14fe80ff483",
      "3383da53402b4d43bd917788eec6ab72",
      "1b3c5c926e02444d825cc8b9d21a8960",
      "3946a0d4d0fd4233a0d72a9b4b3c4605",
      "ca7a917aeafa4d8b8871cb5847106fcb",
      "a9f73ccc809942f0a8c5fd04d62183fc",
      "8425a72addee4c088fcb73f4bd9885c0",
      "42892fd7b164415c8b2f216798f9bdc6",
      "90c411ed30af4efe88b3dc652cf694cc",
      "62c72ddf73574523b0c95ecb8c5674c0",
      "34c1ff2b2c10487dadb42e0ca6aef073",
      "25777a2ea6734b87859571706d221ab5",
      "d84e0941ccd14e55b531ae90f1546a10",
      "6e508f664bda46fdb6bbc3bfb8429154",
      "ae7d2f9ae6ed45dab4e7384bf9b6c025",
      "a3628935f5fc4f8c85c826906bfa2c04",
      "e1d6e159c09243f08bcd5bdfa9738814",
      "39d1e9c682da46f390afff75f1c40c60",
      "cd54efc7c65d458d82f8214eef12380a",
      "9e72b18cb57a436996a0261966231fdd",
      "588fc7375f90441f847b130778d0ef53",
      "d174ff90b74041e7a2c5731efffe62ca",
      "fba1f1d740fc42ac9d953135c6fc51c9",
      "41fdab5b5b2d4d8c991aa063f42cade9",
      "95e82d8efb6d48cab08d792b5b8ed318",
      "2ef892ac38ef403a902f3b0cf19ccc0a",
      "18e53221124a418c8fc015e193727504",
      "5df09c463ff2499b9849f5813189d5d0",
      "14d34299be224a89ad4827b5632e62ef",
      "075a98cd575b441eada3fe6dcd8bc8c0",
      "8fc1a833a4d147909091d86d6949dd41",
      "f8e8ee1756b34b3b81e1745f541639c6",
      "ab6cec8e2e37417ab6b967a86bb108cf",
      "b692c5cf429245d2a5ee2fd9e785481f",
      "8f012bbe9552430bb75623e1ac6d2cc6",
      "dc3daa24df654588b4783e69e0a6160d",
      "6e7b23a1df9240a8a119d850abd5b709",
      "1d0b193385204c1a90306de02e1d1d56",
      "ee9240f1633b4ec48818e4d2b5e31385",
      "fdf3dbdbb83e4337848ff6514b54bc72",
      "2291e2a28ba74f26a1eec1a54b505fdf",
      "b0ea3ba536ec4abb9a8bafdf173587a2",
      "2916d79b86e341c9b2b959fcee66b751",
      "d084f9c727814352a1bf77f1cc069d75",
      "80eca64cc9464f0598bbf00c23e9121e",
      "f911e6328f76468f92e4bd78bccfbd37",
      "95e264d7289642b3b99b1266e3846e3b",
      "b23e5f7ee421489d83cc417c153dfb84",
      "2f6a7e26b5874826b54e6ce79d8d2277",
      "cadb5deb19314bdbbe909740b8c34269",
      "f3837666d2814d0db9e45e90ba521474",
      "ca87daaaeacb42faae3b8dbd564cbf82",
      "daf53fa17f9f40349136766e701bed01",
      "75a4fe9a4b0d4538a80cfbebffdba832",
      "c2838c411dad4f8c8aa6fed51c19d062",
      "05675f6d71334383a9e6ec6628f8b85e",
      "d90296b4338c4569b9eda3faf8d2dda6",
      "e994b34390bd4f26bd8e044de5252613",
      "8857a29e36da4cb8aa83f07320113381",
      "e82f5a24644940ea840535c7005629c1",
      "6746f80a332f448f8ee617d1447791f1",
      "89df0ae9982e49f48eb2f7e75505d4a0",
      "cddacd678f1243a594abb54bc6a71587",
      "543a23c53e734eaebb18a341748ac6fc",
      "d9bf1f858a6849239b41d957dbb73f37",
      "7acd4c108bf04094aac56a74cbde2f86",
      "b62b34891ceb4cd7bd03c431bd53a39b",
      "28c15cfacabb4c94959f7caace528a1d",
      "6b0bdb8fa114443ea5db9626d1e36043",
      "d43f1b3b597c46c890e2f46bcea6e27d"
     ]
    },
    "id": "yXmeh7c3oMP5",
    "outputId": "abebdbdd-76ea-4e47-c4ae-32e3ae412b96"
   },
   "outputs": [
    {
     "name": "stderr",
     "output_type": "stream",
     "text": [
      "/usr/local/lib/python3.11/dist-packages/huggingface_hub/utils/_auth.py:94: UserWarning: \n",
      "The secret `HF_TOKEN` does not exist in your Colab secrets.\n",
      "To authenticate with the Hugging Face Hub, create a token in your settings tab (https://huggingface.co/settings/tokens), set it as secret in your Google Colab and restart your session.\n",
      "You will be able to reuse this secret in all of your notebooks.\n",
      "Please note that authentication is recommended but still optional to access public models or datasets.\n",
      "  warnings.warn(\n"
     ]
    },
    {
     "data": {
      "application/vnd.jupyter.widget-view+json": {
       "model_id": "5f2774be577341299efc8c08201dec7a",
       "version_major": 2,
       "version_minor": 0
      },
      "text/plain": [
       "modules.json:   0%|          | 0.00/349 [00:00<?, ?B/s]"
      ]
     },
     "metadata": {},
     "output_type": "display_data"
    },
    {
     "data": {
      "application/vnd.jupyter.widget-view+json": {
       "model_id": "b5fdea9502fe4089a35a177c112bf7d2",
       "version_major": 2,
       "version_minor": 0
      },
      "text/plain": [
       "config_sentence_transformers.json:   0%|          | 0.00/116 [00:00<?, ?B/s]"
      ]
     },
     "metadata": {},
     "output_type": "display_data"
    },
    {
     "data": {
      "application/vnd.jupyter.widget-view+json": {
       "model_id": "613845e1f39a4ecaab0552e6e7cca415",
       "version_major": 2,
       "version_minor": 0
      },
      "text/plain": [
       "README.md: 0.00B [00:00, ?B/s]"
      ]
     },
     "metadata": {},
     "output_type": "display_data"
    },
    {
     "data": {
      "application/vnd.jupyter.widget-view+json": {
       "model_id": "ef529316017a43e7b7f05681f47aec01",
       "version_major": 2,
       "version_minor": 0
      },
      "text/plain": [
       "sentence_bert_config.json:   0%|          | 0.00/53.0 [00:00<?, ?B/s]"
      ]
     },
     "metadata": {},
     "output_type": "display_data"
    },
    {
     "data": {
      "application/vnd.jupyter.widget-view+json": {
       "model_id": "6ef48ee4abcc4cd6ac4f1e48c4405a0e",
       "version_major": 2,
       "version_minor": 0
      },
      "text/plain": [
       "config.json:   0%|          | 0.00/612 [00:00<?, ?B/s]"
      ]
     },
     "metadata": {},
     "output_type": "display_data"
    },
    {
     "data": {
      "application/vnd.jupyter.widget-view+json": {
       "model_id": "8d68e1d55a9446b6b8294a144e564e68",
       "version_major": 2,
       "version_minor": 0
      },
      "text/plain": [
       "model.safetensors:   0%|          | 0.00/90.9M [00:00<?, ?B/s]"
      ]
     },
     "metadata": {},
     "output_type": "display_data"
    },
    {
     "data": {
      "application/vnd.jupyter.widget-view+json": {
       "model_id": "ca7a917aeafa4d8b8871cb5847106fcb",
       "version_major": 2,
       "version_minor": 0
      },
      "text/plain": [
       "tokenizer_config.json:   0%|          | 0.00/350 [00:00<?, ?B/s]"
      ]
     },
     "metadata": {},
     "output_type": "display_data"
    },
    {
     "data": {
      "application/vnd.jupyter.widget-view+json": {
       "model_id": "a3628935f5fc4f8c85c826906bfa2c04",
       "version_major": 2,
       "version_minor": 0
      },
      "text/plain": [
       "vocab.txt: 0.00B [00:00, ?B/s]"
      ]
     },
     "metadata": {},
     "output_type": "display_data"
    },
    {
     "data": {
      "application/vnd.jupyter.widget-view+json": {
       "model_id": "18e53221124a418c8fc015e193727504",
       "version_major": 2,
       "version_minor": 0
      },
      "text/plain": [
       "tokenizer.json: 0.00B [00:00, ?B/s]"
      ]
     },
     "metadata": {},
     "output_type": "display_data"
    },
    {
     "data": {
      "application/vnd.jupyter.widget-view+json": {
       "model_id": "1d0b193385204c1a90306de02e1d1d56",
       "version_major": 2,
       "version_minor": 0
      },
      "text/plain": [
       "special_tokens_map.json:   0%|          | 0.00/112 [00:00<?, ?B/s]"
      ]
     },
     "metadata": {},
     "output_type": "display_data"
    },
    {
     "data": {
      "application/vnd.jupyter.widget-view+json": {
       "model_id": "2f6a7e26b5874826b54e6ce79d8d2277",
       "version_major": 2,
       "version_minor": 0
      },
      "text/plain": [
       "config.json:   0%|          | 0.00/190 [00:00<?, ?B/s]"
      ]
     },
     "metadata": {},
     "output_type": "display_data"
    },
    {
     "data": {
      "application/vnd.jupyter.widget-view+json": {
       "model_id": "e82f5a24644940ea840535c7005629c1",
       "version_major": 2,
       "version_minor": 0
      },
      "text/plain": [
       "Batches:   0%|          | 0/4 [00:00<?, ?it/s]"
      ]
     },
     "metadata": {},
     "output_type": "display_data"
    },
    {
     "name": "stdout",
     "output_type": "stream",
     "text": [
      "✅ Generated 114 embeddings of dimension 384\n"
     ]
    }
   ],
   "source": [
    "from sentence_transformers import SentenceTransformer\n",
    "\n",
    "# Load the model\n",
    "model = SentenceTransformer('all-MiniLM-L6-v2')  # output dimension = 384\n",
    "\n",
    "# Generate embeddings\n",
    "embeddings = model.encode(chunks, show_progress_bar=True, normalize_embeddings=True)\n",
    "\n",
    "print(f\"✅ Generated {len(embeddings)} embeddings of dimension {len(embeddings[0])}\")\n"
   ]
  },
  {
   "cell_type": "code",
   "execution_count": 12,
   "metadata": {
    "colab": {
     "base_uri": "https://localhost:8080/"
    },
    "id": "m62BMyOtoTDo",
    "outputId": "c38069be-6dd8-4515-a473-59d40490e39a"
   },
   "outputs": [
    {
     "name": "stdout",
     "output_type": "stream",
     "text": [
      "Collecting faiss-cpu\n",
      "  Downloading faiss_cpu-1.11.0-cp311-cp311-manylinux_2_28_x86_64.whl.metadata (4.8 kB)\n",
      "Requirement already satisfied: numpy<3.0,>=1.25.0 in /usr/local/lib/python3.11/dist-packages (from faiss-cpu) (2.0.2)\n",
      "Requirement already satisfied: packaging in /usr/local/lib/python3.11/dist-packages (from faiss-cpu) (24.2)\n",
      "Downloading faiss_cpu-1.11.0-cp311-cp311-manylinux_2_28_x86_64.whl (31.3 MB)\n",
      "\u001b[2K   \u001b[90m━━━━━━━━━━━━━━━━━━━━━━━━━━━━━━━━━━━━━━━━\u001b[0m \u001b[32m31.3/31.3 MB\u001b[0m \u001b[31m51.1 MB/s\u001b[0m eta \u001b[36m0:00:00\u001b[0m\n",
      "\u001b[?25hInstalling collected packages: faiss-cpu\n",
      "Successfully installed faiss-cpu-1.11.0\n"
     ]
    }
   ],
   "source": [
    "!pip install faiss-cpu\n",
    "\n"
   ]
  },
  {
   "cell_type": "code",
   "execution_count": 13,
   "metadata": {
    "id": "lEgd_wKAoUmS"
   },
   "outputs": [],
   "source": [
    "import faiss\n",
    "import numpy as np\n"
   ]
  },
  {
   "cell_type": "code",
   "execution_count": 14,
   "metadata": {
    "colab": {
     "base_uri": "https://localhost:8080/"
    },
    "id": "nTiD0KFwoWsw",
    "outputId": "bfb930d4-c972-4ccd-eb81-330685be5604"
   },
   "outputs": [
    {
     "name": "stdout",
     "output_type": "stream",
     "text": [
      "✅ FAISS index built with 114 vectors.\n"
     ]
    }
   ],
   "source": [
    "# Convert embeddings to numpy array\n",
    "embedding_dim = embeddings.shape[1]\n",
    "index = faiss.IndexFlatIP(embedding_dim)  # Using cosine similarity (with normalized vectors)\n",
    "\n",
    "# Add vectors\n",
    "index.add(np.array(embeddings))\n",
    "\n",
    "print(f\"✅ FAISS index built with {index.ntotal} vectors.\")\n"
   ]
  },
  {
   "cell_type": "code",
   "execution_count": 15,
   "metadata": {
    "id": "JlOXuzVAoYdw"
   },
   "outputs": [],
   "source": [
    "faiss.write_index(index, \"medical_faiss.index\")\n"
   ]
  },
  {
   "cell_type": "code",
   "execution_count": 16,
   "metadata": {
    "id": "vf5bnFQbokxw"
   },
   "outputs": [],
   "source": [
    "def semantic_search(query, model, index, chunks, top_k=3):\n",
    "    # Embed the query\n",
    "    query_embedding = model.encode([query], normalize_embeddings=True)\n",
    "\n",
    "    # Search the index\n",
    "    D, I = index.search(np.array(query_embedding), top_k)\n",
    "\n",
    "    print(f\"\\n🔍 Top {top_k} results for: '{query}'\\n\")\n",
    "    for idx in I[0]:\n",
    "        print(f\"🧾 {chunks[idx]}\")\n",
    "        print(\"-\" * 80)\n"
   ]
  },
  {
   "cell_type": "code",
   "execution_count": 17,
   "metadata": {
    "colab": {
     "base_uri": "https://localhost:8080/"
    },
    "id": "HZkOBK1aomff",
    "outputId": "cf6375f0-be6c-45a8-ce4a-f6b94a64e697"
   },
   "outputs": [
    {
     "name": "stdout",
     "output_type": "stream",
     "text": [
      "\n",
      "🔍 Top 3 results for: 'What are the symptoms of high blood pressure?'\n",
      "\n",
      "🧾  of \n",
      "MIMIC-IV v2.2, the OMR table contains data for five measurements: blood pressure, height, weight, body mass \n",
      "index, and the Estimated Glomerular Filtration Rate (eGFR). These values are available from both inpatient and \n",
      "outpatient visits, and in many cases a “baseline” value from before a patient’s hospitalization is available.\n",
      "Medication.  There are four tables in the hosp module which track medication prescription and administration: \n",
      "prescriptions, pharmacy, emar, and emar_detail. The p\n",
      "--------------------------------------------------------------------------------\n",
      "🧾 ts reported to the care providers. This information is not captured in this table, which only provides the final \n",
      "interpretation of a microbiology culture as it was documented at storetime.\n",
      "Finally, the omr table provides information from the Online Medical Record (OMR) for the patient. OMR \n",
      "is a general system used for documenting patient information from visits at BIDMC affiliated institutes. As of \n",
      "MIMIC-IV v2.2, the OMR table contains data for five measurements: blood pressure, height, weigh\n",
      "--------------------------------------------------------------------------------\n",
      "🧾 , A. L. et al. Physiobank, physiotoolkit, and physionet: components of a new research resource for complex physiologic \n",
      "signals. circulation 101, e215–e220 (2000).\n",
      "\t20.\t Johnson, A. E. W. et al. MIMIC-IV (latest version). PhysioNet https://doi.org/10.13026/07hj-2a80 (2022).\n",
      "\t21.\t Johnson, A. E. W. et al. MIMIC-IV-Note: Deidentified free-text clinical notes (latest version). PhysioNet https://doi.\n",
      "org/10.13026/1cjn-2370 (2022).\n",
      "\t22.\t Johnson, A. E. W., Pollard, T. J. & Mark, R. G. MIMIC-III clini\n",
      "--------------------------------------------------------------------------------\n"
     ]
    }
   ],
   "source": [
    "query = \"What are the symptoms of high blood pressure?\"\n",
    "semantic_search(query, model, index, chunks)\n"
   ]
  },
  {
   "cell_type": "code",
   "execution_count": 18,
   "metadata": {
    "colab": {
     "base_uri": "https://localhost:8080/"
    },
    "id": "xvhAwFBVpK9w",
    "outputId": "1e3d6dac-b30e-4182-b07e-95c608257019"
   },
   "outputs": [
    {
     "name": "stdout",
     "output_type": "stream",
     "text": [
      "\n",
      "🔍 Top 3 results for: 'what is blood pressure data used for'\n",
      "\n",
      "🧾 h as blood. Multiple measurements are often taken for a single specimen, delineated by \n",
      "the specimen_id column in the labevents table and the micro_specimen_id column in microbiology-\n",
      "events. For example, blood gas measurements made on the same sample will share the same specimen_id \n",
      "with one concept specifying the type of specimen (arterial, venous, etc).\n",
      "Microbiology measurements are stored in a single table with columns dedicated to domain specific con-\n",
      "cepts. Measurements follow a directed h\n",
      "--------------------------------------------------------------------------------\n",
      "🧾 1\n",
      "Scientific Data | (2023) 10:1 | https://doi.org/10.1038/s41597-022-01899-x\n",
      "www.nature.com/scientificdata\n",
      "MIMIC-IV, a freely accessible \n",
      "electronic health record dataset\n",
      "Alistair E. W. Johnson1,2 ✉, Lucas Bulgarelli   1, Lu Shen3, Alvin Gayles3, Ayad Shammout3, \n",
      "Steven Horng   3, Tom J. Pollard   1, Sicheng Hao1, Benjamin Moody1, Brian Gow   1,  \n",
      "Li-wei H. Lehman1, Leo A. Celi   1,3 & Roger G. Mark   1\n",
      "Digital data collection during routine clinical practice is now ubiquitous within hospitals. \n",
      "--------------------------------------------------------------------------------\n",
      "🧾 ts reported to the care providers. This information is not captured in this table, which only provides the final \n",
      "interpretation of a microbiology culture as it was documented at storetime.\n",
      "Finally, the omr table provides information from the Online Medical Record (OMR) for the patient. OMR \n",
      "is a general system used for documenting patient information from visits at BIDMC affiliated institutes. As of \n",
      "MIMIC-IV v2.2, the OMR table contains data for five measurements: blood pressure, height, weigh\n",
      "--------------------------------------------------------------------------------\n"
     ]
    }
   ],
   "source": [
    "semantic_search(\"what is blood pressure data used for\", model, index, chunks)\n"
   ]
  },
  {
   "cell_type": "code",
   "execution_count": 19,
   "metadata": {
    "colab": {
     "base_uri": "https://localhost:8080/"
    },
    "id": "9EnU2BgYpPGQ",
    "outputId": "27aeeb36-dbcc-4d59-b28e-f3a9a72a2c45"
   },
   "outputs": [
    {
     "name": "stdout",
     "output_type": "stream",
     "text": [
      "\n",
      "🔍 Top 3 results for: 'how to track patient medication'\n",
      "\n",
      "🧾 conducted code reviews, and tracked issues using \n",
      "a ticket system. Code was managed using version control software. Data transformation was executed with a \n",
      "single, reproducible build script. Validation of the build process assessed data integrity, data consistency, and \n",
      "deidentification. Unit tests were created to apply these checks during development.\n",
      "Fig. 4  Visualization of medication information documented within MIMIC-IV for a single patient’s \n",
      "hospitalization: hadm_id 28503629. The annota\n",
      "--------------------------------------------------------------------------------\n",
      "🧾 ion related tables, emar and emar_detail, are sourced from the electronic Medicine \n",
      "Administration Record (eMAR). The eMAR system requires barcode scanning of a patient wristband and \n",
      "the medication at the time of administration and was deployed throughout the BIDMC between 2014–2016. \n",
      "By 2016, all units of the hospital had the eMAR system deployed, and thus all hospitalizations from 2016 \n",
      "onward would be anticipated to have records within eMAR. Unlike the prescriptions table which stores med-\n",
      "i\n",
      "--------------------------------------------------------------------------------\n",
      "🧾 uding from billing information, the provider order entry system, as well as the ICU information system. The \n",
      "bottom panel displays patient laboratory measurements. Note that while frequent vital signs are only available \n",
      "when the patient is in the ICU, laboratory measures are available throughout their hospitalization.\n",
      "6\n",
      "Scientific Data | (2023) 10:1 | https://doi.org/10.1038/s41597-022-01899-x\n",
      "www.nature.com/scientificdata\n",
      "www.nature.com/scientificdata/\n",
      "Diagnoses are recorded with the ICD-9-CM \n",
      "--------------------------------------------------------------------------------\n"
     ]
    }
   ],
   "source": [
    "semantic_search(\"how to track patient medication\", model, index, chunks)\n",
    "\n"
   ]
  },
  {
   "cell_type": "code",
   "execution_count": 20,
   "metadata": {
    "colab": {
     "base_uri": "https://localhost:8080/"
    },
    "id": "zDGvJYeTpRBn",
    "outputId": "01afed4d-45a3-4e84-84a8-8c4c92021f72"
   },
   "outputs": [
    {
     "name": "stdout",
     "output_type": "stream",
     "text": [
      "\n",
      "🔍 Top 3 results for: 'what is omr table in mimic'\n",
      "\n",
      "🧾 ts reported to the care providers. This information is not captured in this table, which only provides the final \n",
      "interpretation of a microbiology culture as it was documented at storetime.\n",
      "Finally, the omr table provides information from the Online Medical Record (OMR) for the patient. OMR \n",
      "is a general system used for documenting patient information from visits at BIDMC affiliated institutes. As of \n",
      "MIMIC-IV v2.2, the OMR table contains data for five measurements: blood pressure, height, weigh\n",
      "--------------------------------------------------------------------------------\n",
      "🧾  of \n",
      "MIMIC-IV v2.2, the OMR table contains data for five measurements: blood pressure, height, weight, body mass \n",
      "index, and the Estimated Glomerular Filtration Rate (eGFR). These values are available from both inpatient and \n",
      "outpatient visits, and in many cases a “baseline” value from before a patient’s hospitalization is available.\n",
      "Medication.  There are four tables in the hosp module which track medication prescription and administration: \n",
      "prescriptions, pharmacy, emar, and emar_detail. The p\n",
      "--------------------------------------------------------------------------------\n",
      "🧾 indings, and impression of the imaging study. For more in-depth imaging scans such \n",
      "as full body MRIs, reports may describe findings organized according to the body system examined. The associ-\n",
      "ated radiology_detail table provides a coded ontology for radiology examinations as well as current procedural \n",
      "terminology (CPT) codes for each study. If an addendum for a report exists, the radiology_detail provides the \n",
      "associated note_id.\n",
      "Building on earlier versions of MIMIC. \n",
      "MIMIC-IV is similar in \n",
      "--------------------------------------------------------------------------------\n"
     ]
    }
   ],
   "source": [
    "semantic_search(\"what is omr table in mimic\", model, index, chunks)"
   ]
  }
 ],
 "metadata": {
  "colab": {
   "provenance": []
  },
  "kernelspec": {
   "display_name": "Python 3",
   "name": "python3"
  },
  "language_info": {
   "name": "python"
  }
 },
 "nbformat": 4,
 "nbformat_minor": 0
}
